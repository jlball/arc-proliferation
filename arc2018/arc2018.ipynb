{
 "cells": [
  {
   "cell_type": "markdown",
   "metadata": {},
   "source": [
    "# ARC 2018 Model #"
   ]
  },
  {
   "cell_type": "code",
   "execution_count": 1,
   "metadata": {},
   "outputs": [],
   "source": [
    "import openmc\n",
    "import neutronics_material_maker as nmm\n",
    "import math\n"
   ]
  },
  {
   "cell_type": "markdown",
   "metadata": {},
   "source": [
    "## Materials ##"
   ]
  },
  {
   "cell_type": "markdown",
   "metadata": {},
   "source": [
    "All material management is done using `neutronics_material_maker`. The name of each material must correspond to the name of the region of the DAGMC model to which it should be assigned."
   ]
  },
  {
   "cell_type": "code",
   "execution_count": 2,
   "metadata": {},
   "outputs": [
    {
     "name": "stdout",
     "output_type": "stream",
     "text": [
      "Added materials to library from mat_lib.json\n",
      "Added material ['plasma', 'flibe', 'uf4', 'tungsten', 'lead']\n"
     ]
    }
   ],
   "source": [
    "nmm.AddMaterialFromFile(\"mat_lib.json\")\n",
    "\n",
    "# Material Parameters:\n",
    "Li6_enrichment = 7.8\n",
    "U235_enrichment = 0.007\n",
    "percent_fertile = 5 / 100\n",
    "\n",
    "plasma = nmm.Material.from_library(\"plasma\").openmc_material\n",
    "\n",
    "flibe = nmm.Material.from_library(\"flibe\", enrichment=Li6_enrichment)\n",
    "uf4 = nmm.Material.from_library(\"uf4\")\n",
    "\n",
    "#Creating materials for all four FLiBe regions by mixing UF4 and FLiBe materials by volume\n",
    "ib_tank = nmm.Material.from_mixture(name='inboard_tank', materials=[flibe, uf4], fracs=[1 - percent_fertile, percent_fertile], percent_type='vo').openmc_material\n",
    "ob_tank = nmm.Material.from_mixture(name='outboard_tank', materials=[flibe, uf4], fracs=[1 - percent_fertile, percent_fertile], percent_type='vo').openmc_material\n",
    "\n",
    "ib_cc = nmm.Material.from_mixture(name='inboard_cc', materials=[flibe, uf4], fracs=[1 - percent_fertile, percent_fertile], percent_type='vo').openmc_material\n",
    "ob_cc = nmm.Material.from_mixture(name='outboard_cc', materials=[flibe, uf4], fracs=[1 - percent_fertile, percent_fertile], percent_type='vo').openmc_material\n",
    "\n",
    "ib_mult = nmm.Material.from_library(\"lead\").openmc_material\n",
    "ib_mult.name = 'inboard_multiplier'\n",
    "\n",
    "ob_mult = nmm.Material.from_library(\"lead\").openmc_material\n",
    "ob_mult.name = 'outboard_multiplier'\n",
    "\n",
    "ob_outer_vv = nmm.Material.from_library(\"Inconel-718\").openmc_material\n",
    "ob_outer_vv.name = 'outboard_outer_vv'\n",
    "\n",
    "ib_outer_vv = nmm.Material.from_library(\"Inconel-718\").openmc_material\n",
    "ib_outer_vv.name = 'inboard_outer_vv'\n",
    "\n",
    "vv = nmm.Material.from_library(\"tungsten\").openmc_material\n",
    "vv.name = \"vv\"\n",
    "\n",
    "materials = openmc.Materials(\n",
    "    [\n",
    "        plasma,\n",
    "        ib_tank,\n",
    "        ob_tank,\n",
    "        ib_cc,\n",
    "        ob_cc,\n",
    "        ib_mult,\n",
    "        ob_mult,\n",
    "        ib_outer_vv,\n",
    "        ob_outer_vv,\n",
    "        vv\n",
    "    ]\n",
    ")\n"
   ]
  },
  {
   "cell_type": "markdown",
   "metadata": {},
   "source": [
    "Specify path to cross section file of desired library."
   ]
  },
  {
   "cell_type": "code",
   "execution_count": 3,
   "metadata": {},
   "outputs": [],
   "source": [
    "#Provide path to cross section data\n",
    "openmc.Materials.cross_sections = \"/home/jlball/xs_data/endfb80_hdf5/cross_sections.xml\""
   ]
  },
  {
   "cell_type": "markdown",
   "metadata": {},
   "source": [
    "## Geometry ##"
   ]
  },
  {
   "cell_type": "markdown",
   "metadata": {},
   "source": [
    "The geometry is built in a separate file which uses the Paramak code to build a DAGMC model. Here it is imported and then a bounding region is provided."
   ]
  },
  {
   "cell_type": "code",
   "execution_count": 4,
   "metadata": {},
   "outputs": [],
   "source": [
    "dag_univ = openmc.DAGMCUniverse(\"arc2018.h5m\")\n",
    "\n",
    "# creates an edge of universe boundary surface\n",
    "vac_surf = openmc.Sphere(r=10000, surface_id=9999, boundary_type=\"vacuum\")\n",
    "\n",
    "# adds reflective surface for the sector model at 0 degrees\n",
    "reflective_1 = openmc.Plane(\n",
    "    a=math.sin(0),\n",
    "    b=-math.cos(0),\n",
    "    c=0.0,\n",
    "    d=0.0,\n",
    "    surface_id=9991,\n",
    "    boundary_type=\"reflective\",\n",
    ")\n",
    "\n",
    "# specifies the region as below the universe boundary and inside the reflective surfaces\n",
    "region = -vac_surf & -reflective_1 \n",
    "\n",
    "# creates a cell from the region and fills the cell with the dagmc geometry\n",
    "containing_cell = openmc.Cell(cell_id=9999, region=region, fill=dag_univ)\n",
    "\n",
    "geometry = openmc.Geometry(root=[containing_cell])"
   ]
  },
  {
   "cell_type": "markdown",
   "metadata": {},
   "source": [
    "## Settings ##"
   ]
  },
  {
   "cell_type": "markdown",
   "metadata": {},
   "source": [
    "A simple line source geometry is defined."
   ]
  },
  {
   "cell_type": "code",
   "execution_count": 5,
   "metadata": {},
   "outputs": [],
   "source": [
    "# creates a simple isotropic neutron source in the center with 14MeV neutrons\n",
    "source = openmc.Source()\n",
    "# the distribution of radius is just a single value at the plasma major radius\n",
    "radius = openmc.stats.Discrete([330.], [1])\n",
    "# the distribution of source z values is just a single value\n",
    "z_values = openmc.stats.Discrete([0], [1])\n",
    "# the distribution of source azimuthal angles values is a uniform distribution between 0 and 0.5 Pi\n",
    "# these angles must be the same as the reflective angles\n",
    "angle = openmc.stats.Uniform(a=0., b=math.radians(180))\n",
    "# this makes the ring source using the three distributions and a radius\n",
    "source.space = openmc.stats.CylindricalIndependent(r=radius, phi=angle, z=z_values, origin=(0.0, 0.0, 0.0))\n",
    "# sets the direction to isotropic\n",
    "source.angle = openmc.stats.Isotropic()\n",
    "# sets the energy distribution to a Muir distribution neutrons\n",
    "source.energy = openmc.stats.Muir(e0=14080000.0, m_rat=5.0, kt=20000.0)\n",
    "\n",
    "# specifies the simulation computational intensity\n",
    "settings = openmc.Settings()\n",
    "settings.batches = 10\n",
    "settings.particles = 250000\n",
    "settings.inactive = 0\n",
    "settings.run_mode = \"fixed source\"\n",
    "settings.source = source"
   ]
  },
  {
   "cell_type": "markdown",
   "metadata": {},
   "source": [
    "## Tallies ##"
   ]
  },
  {
   "cell_type": "markdown",
   "metadata": {},
   "source": [
    "Definition of tallies used."
   ]
  },
  {
   "cell_type": "code",
   "execution_count": 6,
   "metadata": {},
   "outputs": [],
   "source": [
    "# Tritium Breeding Tally:\n",
    "trit_tally = openmc.Tally(name='tbr')\n",
    "#trit_tally.filters = [blanket_filter]\n",
    "trit_tally.scores = [\"(n,Xt)\"]\n",
    "\n",
    "# Tritium Breeding Tally:\n",
    "Be_tally = openmc.Tally(name='Be')\n",
    "#Be_tally.filters = [blanket_filter]\n",
    "Be_tally.scores = [\"(n,2n)\"]\n",
    "\n",
    "# Plutonium Breeding Tally:\n",
    "plut_tally = openmc.Tally(name='pbr')\n",
    "plut_tally.nuclides = ['U238']\n",
    "#plut_tally.filters = [blanket_filter]\n",
    "plut_tally.scores = [\"absorption\"]\n",
    "\n",
    "#Fission tally\n",
    "fis_tally = openmc.Tally(name='fis')\n",
    "#fis_tally.filters = [blanket_filter]\n",
    "fis_tally.scores = ['fission']\n",
    "\n",
    "tallies = openmc.Tallies([trit_tally, plut_tally, Be_tally, fis_tally])"
   ]
  },
  {
   "cell_type": "markdown",
   "metadata": {},
   "source": [
    "## Run "
   ]
  },
  {
   "cell_type": "code",
   "execution_count": 9,
   "metadata": {},
   "outputs": [
    {
     "name": "stdout",
     "output_type": "stream",
     "text": [
      "openmc: error while loading shared libraries: libMOAB.so.5: cannot open shared object file: No such file or directory\n"
     ]
    },
    {
     "ename": "RuntimeError",
     "evalue": "OpenMC aborted unexpectedly.",
     "output_type": "error",
     "traceback": [
      "\u001b[0;31m---------------------------------------------------------------------------\u001b[0m",
      "\u001b[0;31mRuntimeError\u001b[0m                              Traceback (most recent call last)",
      "\u001b[1;32m/home/jlball/arc-proliferation/arc2018/arc2018.ipynb Cell 18\u001b[0m in \u001b[0;36m<cell line: 7>\u001b[0;34m()\u001b[0m\n\u001b[1;32m      <a href='vscode-notebook-cell://wsl%2Bubuntu/home/jlball/arc-proliferation/arc2018/arc2018.ipynb#ch0000017vscode-remote?line=1'>2</a>\u001b[0m model \u001b[39m=\u001b[39m openmc\u001b[39m.\u001b[39mModel(\n\u001b[1;32m      <a href='vscode-notebook-cell://wsl%2Bubuntu/home/jlball/arc-proliferation/arc2018/arc2018.ipynb#ch0000017vscode-remote?line=2'>3</a>\u001b[0m     materials\u001b[39m=\u001b[39mmaterials, geometry\u001b[39m=\u001b[39mgeometry, settings\u001b[39m=\u001b[39msettings, tallies\u001b[39m=\u001b[39mtallies\n\u001b[1;32m      <a href='vscode-notebook-cell://wsl%2Bubuntu/home/jlball/arc-proliferation/arc2018/arc2018.ipynb#ch0000017vscode-remote?line=3'>4</a>\u001b[0m )\n\u001b[1;32m      <a href='vscode-notebook-cell://wsl%2Bubuntu/home/jlball/arc-proliferation/arc2018/arc2018.ipynb#ch0000017vscode-remote?line=5'>6</a>\u001b[0m \u001b[39m# starts the simulation\u001b[39;00m\n\u001b[0;32m----> <a href='vscode-notebook-cell://wsl%2Bubuntu/home/jlball/arc-proliferation/arc2018/arc2018.ipynb#ch0000017vscode-remote?line=6'>7</a>\u001b[0m model\u001b[39m.\u001b[39;49mrun(threads\u001b[39m=\u001b[39;49m\u001b[39m12\u001b[39;49m)\n",
      "File \u001b[0;32m~/.local/lib/python3.8/site-packages/openmc/model/model.py:584\u001b[0m, in \u001b[0;36mModel.run\u001b[0;34m(self, particles, threads, geometry_debug, restart_file, tracks, output, cwd, openmc_exec, mpi_args, event_based)\u001b[0m\n\u001b[1;32m    581\u001b[0m \u001b[39melse\u001b[39;00m:\n\u001b[1;32m    582\u001b[0m     \u001b[39m# Then run via the command line\u001b[39;00m\n\u001b[1;32m    583\u001b[0m     \u001b[39mself\u001b[39m\u001b[39m.\u001b[39mexport_to_xml()\n\u001b[0;32m--> 584\u001b[0m     openmc\u001b[39m.\u001b[39;49mrun(particles, threads, geometry_debug, restart_file,\n\u001b[1;32m    585\u001b[0m                tracks, output, Path(\u001b[39m'\u001b[39;49m\u001b[39m.\u001b[39;49m\u001b[39m'\u001b[39;49m), openmc_exec, mpi_args,\n\u001b[1;32m    586\u001b[0m                event_based)\n\u001b[1;32m    588\u001b[0m \u001b[39m# Get output directory and return the last statepoint written\u001b[39;00m\n\u001b[1;32m    589\u001b[0m \u001b[39mif\u001b[39;00m \u001b[39mself\u001b[39m\u001b[39m.\u001b[39msettings\u001b[39m.\u001b[39moutput \u001b[39mand\u001b[39;00m \u001b[39m'\u001b[39m\u001b[39mpath\u001b[39m\u001b[39m'\u001b[39m \u001b[39min\u001b[39;00m \u001b[39mself\u001b[39m\u001b[39m.\u001b[39msettings\u001b[39m.\u001b[39moutput:\n",
      "File \u001b[0;32m~/.local/lib/python3.8/site-packages/openmc/executor.py:276\u001b[0m, in \u001b[0;36mrun\u001b[0;34m(particles, threads, geometry_debug, restart_file, tracks, output, cwd, openmc_exec, mpi_args, event_based)\u001b[0m\n\u001b[1;32m    232\u001b[0m \u001b[39m\"\"\"Run an OpenMC simulation.\u001b[39;00m\n\u001b[1;32m    233\u001b[0m \n\u001b[1;32m    234\u001b[0m \u001b[39mParameters\u001b[39;00m\n\u001b[0;32m   (...)\u001b[0m\n\u001b[1;32m    268\u001b[0m \n\u001b[1;32m    269\u001b[0m \u001b[39m\"\"\"\u001b[39;00m\n\u001b[1;32m    271\u001b[0m args \u001b[39m=\u001b[39m _process_CLI_arguments(\n\u001b[1;32m    272\u001b[0m     volume\u001b[39m=\u001b[39m\u001b[39mFalse\u001b[39;00m, geometry_debug\u001b[39m=\u001b[39mgeometry_debug, particles\u001b[39m=\u001b[39mparticles,\n\u001b[1;32m    273\u001b[0m     restart_file\u001b[39m=\u001b[39mrestart_file, threads\u001b[39m=\u001b[39mthreads, tracks\u001b[39m=\u001b[39mtracks,\n\u001b[1;32m    274\u001b[0m     event_based\u001b[39m=\u001b[39mevent_based, openmc_exec\u001b[39m=\u001b[39mopenmc_exec, mpi_args\u001b[39m=\u001b[39mmpi_args)\n\u001b[0;32m--> 276\u001b[0m _run(args, output, cwd)\n",
      "File \u001b[0;32m~/.local/lib/python3.8/site-packages/openmc/executor.py:116\u001b[0m, in \u001b[0;36m_run\u001b[0;34m(args, output, cwd)\u001b[0m\n\u001b[1;32m    113\u001b[0m     error_msg \u001b[39m=\u001b[39m \u001b[39m'\u001b[39m\u001b[39mOpenMC aborted unexpectedly.\u001b[39m\u001b[39m'\u001b[39m\n\u001b[1;32m    114\u001b[0m error_msg \u001b[39m=\u001b[39m \u001b[39m'\u001b[39m\u001b[39m \u001b[39m\u001b[39m'\u001b[39m\u001b[39m.\u001b[39mjoin(error_msg\u001b[39m.\u001b[39msplit())\n\u001b[0;32m--> 116\u001b[0m \u001b[39mraise\u001b[39;00m \u001b[39mRuntimeError\u001b[39;00m(error_msg)\n",
      "\u001b[0;31mRuntimeError\u001b[0m: OpenMC aborted unexpectedly."
     ]
    }
   ],
   "source": [
    "# builds the openmc model\n",
    "model = openmc.Model(\n",
    "    materials=materials, geometry=geometry, settings=settings, tallies=tallies\n",
    ")\n",
    "\n",
    "# starts the simulation\n",
    "model.run(threads=12)"
   ]
  }
 ],
 "metadata": {
  "kernelspec": {
   "display_name": "Python 3.8.10 64-bit",
   "language": "python",
   "name": "python3"
  },
  "language_info": {
   "codemirror_mode": {
    "name": "ipython",
    "version": 3
   },
   "file_extension": ".py",
   "mimetype": "text/x-python",
   "name": "python",
   "nbconvert_exporter": "python",
   "pygments_lexer": "ipython3",
   "version": "3.8.10"
  },
  "orig_nbformat": 4,
  "vscode": {
   "interpreter": {
    "hash": "31f2aee4e71d21fbe5cf8b01ff0e069b9275f58929596ceb00d14d90e3e16cd6"
   }
  }
 },
 "nbformat": 4,
 "nbformat_minor": 2
}
