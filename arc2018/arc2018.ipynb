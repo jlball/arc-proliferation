{
 "cells": [
  {
   "cell_type": "markdown",
   "metadata": {},
   "source": [
    "# ARC 2018 Model #"
   ]
  },
  {
   "cell_type": "code",
   "execution_count": 3,
   "metadata": {},
   "outputs": [],
   "source": [
    "import openmc\n",
    "import neutronics_material_maker as nmm\n",
    "import math\n"
   ]
  },
  {
   "cell_type": "markdown",
   "metadata": {},
   "source": [
    "## Materials ##"
   ]
  },
  {
   "cell_type": "markdown",
   "metadata": {},
   "source": [
    "All material management is done using `neutronics_material_maker`. The name of each material must correspond to the name of the region of the DAGMC model to which it should be assigned."
   ]
  },
  {
   "cell_type": "code",
   "execution_count": 4,
   "metadata": {},
   "outputs": [
    {
     "name": "stdout",
     "output_type": "stream",
     "text": [
      "Added materials to library from mat_lib.json\n",
      "Added material ['plasma', 'flibe', 'uf4', 'tungsten', 'lead']\n"
     ]
    }
   ],
   "source": [
    "nmm.AddMaterialFromFile(\"mat_lib.json\")\n",
    "\n",
    "# Material Parameters:\n",
    "Li6_enrichment = 7.8\n",
    "U235_enrichment = 0.007\n",
    "percent_fertile = 5 / 100\n",
    "\n",
    "plasma = nmm.Material.from_library(\"plasma\").openmc_material\n",
    "\n",
    "flibe = nmm.Material.from_library(\"flibe\", enrichment=Li6_enrichment)\n",
    "uf4 = nmm.Material.from_library(\"uf4\")\n",
    "\n",
    "#Creating materials for all four FLiBe regions by mixing UF4 and FLiBe materials by volume\n",
    "ib_tank = nmm.Material.from_mixture(name='inboard_tank', materials=[flibe, uf4], fracs=[1 - percent_fertile, percent_fertile], percent_type='vo').openmc_material\n",
    "ob_tank = nmm.Material.from_mixture(name='outboard_tank', materials=[flibe, uf4], fracs=[1 - percent_fertile, percent_fertile], percent_type='vo').openmc_material\n",
    "\n",
    "ib_cc = nmm.Material.from_mixture(name='inboard_cc', materials=[flibe, uf4], fracs=[1 - percent_fertile, percent_fertile], percent_type='vo').openmc_material\n",
    "ob_cc = nmm.Material.from_mixture(name='outboard_cc', materials=[flibe, uf4], fracs=[1 - percent_fertile, percent_fertile], percent_type='vo').openmc_material\n",
    "\n",
    "ib_mult = nmm.Material.from_library(\"lead\").openmc_material\n",
    "ib_mult.name = 'inboard_multiplier'\n",
    "\n",
    "ob_mult = nmm.Material.from_library(\"lead\").openmc_material\n",
    "ob_mult.name = 'outboard_multiplier'\n",
    "\n",
    "ob_outer_vv = nmm.Material.from_library(\"Inconel-718\").openmc_material\n",
    "ob_outer_vv.name = 'outboard_outer_vv'\n",
    "\n",
    "ib_outer_vv = nmm.Material.from_library(\"Inconel-718\").openmc_material\n",
    "ib_outer_vv.name = 'inboard_outer_vv'\n",
    "\n",
    "vv = nmm.Material.from_library(\"tungsten\").openmc_material\n",
    "vv.name = \"vv\"\n",
    "\n",
    "materials = openmc.Materials(\n",
    "    [\n",
    "        plasma,\n",
    "        ib_tank,\n",
    "        ob_tank,\n",
    "        ib_cc,\n",
    "        ob_cc,\n",
    "        ib_mult,\n",
    "        ob_mult,\n",
    "        ib_outer_vv,\n",
    "        ob_outer_vv,\n",
    "        vv\n",
    "    ]\n",
    ")\n"
   ]
  },
  {
   "cell_type": "markdown",
   "metadata": {},
   "source": [
    "Specify path to cross section file of desired library."
   ]
  },
  {
   "cell_type": "code",
   "execution_count": 5,
   "metadata": {},
   "outputs": [],
   "source": [
    "#Provide path to cross section data\n",
    "openmc.Materials.cross_sections = \"/home/jlball/xs_data/endfb80_hdf5/cross_sections.xml\""
   ]
  },
  {
   "cell_type": "markdown",
   "metadata": {},
   "source": [
    "## Geometry ##"
   ]
  },
  {
   "cell_type": "markdown",
   "metadata": {},
   "source": [
    "The geometry is built in a separate file which uses the Paramak code to build a DAGMC model. Here it is imported and then a bounding region is provided."
   ]
  },
  {
   "cell_type": "code",
   "execution_count": 6,
   "metadata": {},
   "outputs": [],
   "source": [
    "dag_univ = openmc.DAGMCUniverse(\"arc2018.h5m\")\n",
    "\n",
    "# creates an edge of universe boundary surface\n",
    "vac_surf = openmc.Sphere(r=10000, surface_id=9999, boundary_type=\"vacuum\")\n",
    "\n",
    "# adds reflective surface for the sector model at 0 degrees\n",
    "reflective_1 = openmc.Plane(\n",
    "    a=math.sin(0),\n",
    "    b=-math.cos(0),\n",
    "    c=0.0,\n",
    "    d=0.0,\n",
    "    surface_id=9991,\n",
    "    boundary_type=\"reflective\",\n",
    ")\n",
    "\n",
    "# specifies the region as below the universe boundary and inside the reflective surfaces\n",
    "region = -vac_surf & -reflective_1 \n",
    "\n",
    "# creates a cell from the region and fills the cell with the dagmc geometry\n",
    "containing_cell = openmc.Cell(cell_id=9999, region=region, fill=dag_univ)\n",
    "\n",
    "geometry = openmc.Geometry(root=[containing_cell])"
   ]
  },
  {
   "cell_type": "markdown",
   "metadata": {},
   "source": [
    "## Settings ##"
   ]
  },
  {
   "cell_type": "markdown",
   "metadata": {},
   "source": [
    "A simple line source geometry is defined."
   ]
  },
  {
   "cell_type": "code",
   "execution_count": 7,
   "metadata": {},
   "outputs": [],
   "source": [
    "# creates a simple isotropic neutron source in the center with 14MeV neutrons\n",
    "source = openmc.Source()\n",
    "# the distribution of radius is just a single value at the plasma major radius\n",
    "radius = openmc.stats.Discrete([330.], [1])\n",
    "# the distribution of source z values is just a single value\n",
    "z_values = openmc.stats.Discrete([0], [1])\n",
    "# the distribution of source azimuthal angles values is a uniform distribution between 0 and 0.5 Pi\n",
    "# these angles must be the same as the reflective angles\n",
    "angle = openmc.stats.Uniform(a=0., b=math.radians(180))\n",
    "# this makes the ring source using the three distributions and a radius\n",
    "source.space = openmc.stats.CylindricalIndependent(r=radius, phi=angle, z=z_values, origin=(0.0, 0.0, 0.0))\n",
    "# sets the direction to isotropic\n",
    "source.angle = openmc.stats.Isotropic()\n",
    "# sets the energy distribution to a Muir distribution neutrons\n",
    "source.energy = openmc.stats.Muir(e0=14080000.0, m_rat=5.0, kt=20000.0)\n",
    "\n",
    "# specifies the simulation computational intensity\n",
    "settings = openmc.Settings()\n",
    "settings.batches = 10\n",
    "settings.particles = 250000\n",
    "settings.inactive = 0\n",
    "settings.run_mode = \"fixed source\"\n",
    "settings.source = source"
   ]
  },
  {
   "cell_type": "markdown",
   "metadata": {},
   "source": [
    "## Tallies ##"
   ]
  },
  {
   "cell_type": "markdown",
   "metadata": {},
   "source": [
    "Definition of tallies used."
   ]
  },
  {
   "cell_type": "code",
   "execution_count": 8,
   "metadata": {},
   "outputs": [],
   "source": [
    "# Tritium Breeding Tally:\n",
    "trit_tally = openmc.Tally(name='tbr')\n",
    "#trit_tally.filters = [blanket_filter]\n",
    "trit_tally.scores = [\"(n,Xt)\"]\n",
    "\n",
    "# Tritium Breeding Tally:\n",
    "Be_tally = openmc.Tally(name='Be')\n",
    "#Be_tally.filters = [blanket_filter]\n",
    "Be_tally.scores = [\"(n,2n)\"]\n",
    "\n",
    "# Plutonium Breeding Tally:\n",
    "plut_tally = openmc.Tally(name='pbr')\n",
    "plut_tally.nuclides = ['U238']\n",
    "#plut_tally.filters = [blanket_filter]\n",
    "plut_tally.scores = [\"absorption\"]\n",
    "\n",
    "#Fission tally\n",
    "fis_tally = openmc.Tally(name='fis')\n",
    "#fis_tally.filters = [blanket_filter]\n",
    "fis_tally.scores = ['fission']\n",
    "\n",
    "tallies = openmc.Tallies([trit_tally, plut_tally, Be_tally, fis_tally])"
   ]
  },
  {
   "cell_type": "markdown",
   "metadata": {},
   "source": [
    "## Run "
   ]
  },
  {
   "cell_type": "code",
   "execution_count": 9,
   "metadata": {},
   "outputs": [
    {
     "name": "stdout",
     "output_type": "stream",
     "text": [
      "                                %%%%%%%%%%%%%%%\n",
      "                           %%%%%%%%%%%%%%%%%%%%%%%%\n",
      "                        %%%%%%%%%%%%%%%%%%%%%%%%%%%%%%\n",
      "                      %%%%%%%%%%%%%%%%%%%%%%%%%%%%%%%%%%\n",
      "                    %%%%%%%%%%%%%%%%%%%%%%%%%%%%%%%%%%%%%%\n",
      "                   %%%%%%%%%%%%%%%%%%%%%%%%%%%%%%%%%%%%%%%%\n",
      "                                    %%%%%%%%%%%%%%%%%%%%%%%%\n",
      "                                     %%%%%%%%%%%%%%%%%%%%%%%%\n",
      "                 ###############      %%%%%%%%%%%%%%%%%%%%%%%%\n",
      "                ##################     %%%%%%%%%%%%%%%%%%%%%%%\n",
      "                ###################     %%%%%%%%%%%%%%%%%%%%%%%\n",
      "                ####################     %%%%%%%%%%%%%%%%%%%%%%\n",
      "                #####################     %%%%%%%%%%%%%%%%%%%%%\n",
      "                ######################     %%%%%%%%%%%%%%%%%%%%\n",
      "                #######################     %%%%%%%%%%%%%%%%%%\n",
      "                 #######################     %%%%%%%%%%%%%%%%%\n",
      "                 ######################     %%%%%%%%%%%%%%%%%\n",
      "                  ####################     %%%%%%%%%%%%%%%%%\n",
      "                    #################     %%%%%%%%%%%%%%%%%\n",
      "                     ###############     %%%%%%%%%%%%%%%%\n",
      "                       ############     %%%%%%%%%%%%%%%\n",
      "                          ########     %%%%%%%%%%%%%%\n",
      "                                      %%%%%%%%%%%\n",
      "\n",
      "                 | The OpenMC Monte Carlo Code\n",
      "       Copyright | 2011-2022 MIT, UChicago Argonne LLC, and contributors\n",
      "         License | https://docs.openmc.org/en/latest/license.html\n",
      "         Version | 0.13.0\n",
      "        Git SHA1 | d9478c1304a37590453eabe3a99e97abb7f92013\n",
      "       Date/Time | 2022-07-19 09:05:48\n",
      "   MPI Processes | 1\n",
      "  OpenMP Threads | 12\n",
      "\n",
      " Reading settings XML file...\n",
      " Reading cross sections XML file...\n",
      " Reading materials XML file...\n",
      " Reading geometry XML file...\n",
      "Set overlap thickness = 0\n",
      "Set numerical precision = 0.001\n",
      "Loading file arc2018.h5m\n",
      "Initializing the GeomQueryTool...\n",
      "Using faceting tolerance: 0\n",
      "Building acceleration data structures...\n",
      "Implicit Complement assumed to be Vacuum\n",
      " Reading H1 from /home/jlball/xs_data/endfb80_hdf5/H1.h5\n",
      " Reading H2 from /home/jlball/xs_data/endfb80_hdf5/H2.h5\n",
      " Reading Be9 from /home/jlball/xs_data/endfb80_hdf5/Be9.h5\n",
      " Reading F19 from /home/jlball/xs_data/endfb80_hdf5/F19.h5\n",
      " Reading Li6 from /home/jlball/xs_data/endfb80_hdf5/Li6.h5\n",
      " Reading Li7 from /home/jlball/xs_data/endfb80_hdf5/Li7.h5\n",
      " Reading U234 from /home/jlball/xs_data/endfb80_hdf5/U234.h5\n",
      " Reading U235 from /home/jlball/xs_data/endfb80_hdf5/U235.h5\n",
      " Reading U238 from /home/jlball/xs_data/endfb80_hdf5/U238.h5\n",
      " Reading Pb206 from /home/jlball/xs_data/endfb80_hdf5/Pb206.h5\n",
      " Reading Pb204 from /home/jlball/xs_data/endfb80_hdf5/Pb204.h5\n",
      " Reading Pb208 from /home/jlball/xs_data/endfb80_hdf5/Pb208.h5\n",
      " Reading Pb207 from /home/jlball/xs_data/endfb80_hdf5/Pb207.h5\n",
      " Reading B11 from /home/jlball/xs_data/endfb80_hdf5/B11.h5\n",
      " Reading B10 from /home/jlball/xs_data/endfb80_hdf5/B10.h5\n",
      " Reading C12 from /home/jlball/xs_data/endfb80_hdf5/C12.h5\n",
      " Reading C13 from /home/jlball/xs_data/endfb80_hdf5/C13.h5\n",
      " Reading Al27 from /home/jlball/xs_data/endfb80_hdf5/Al27.h5\n",
      " Reading Si29 from /home/jlball/xs_data/endfb80_hdf5/Si29.h5\n",
      " Reading Si28 from /home/jlball/xs_data/endfb80_hdf5/Si28.h5\n",
      " Reading Si30 from /home/jlball/xs_data/endfb80_hdf5/Si30.h5\n",
      " Reading P31 from /home/jlball/xs_data/endfb80_hdf5/P31.h5\n",
      " Reading S34 from /home/jlball/xs_data/endfb80_hdf5/S34.h5\n",
      " Reading S33 from /home/jlball/xs_data/endfb80_hdf5/S33.h5\n",
      " Reading S36 from /home/jlball/xs_data/endfb80_hdf5/S36.h5\n",
      " Reading S32 from /home/jlball/xs_data/endfb80_hdf5/S32.h5\n",
      " Reading Ti50 from /home/jlball/xs_data/endfb80_hdf5/Ti50.h5\n",
      " Reading Ti49 from /home/jlball/xs_data/endfb80_hdf5/Ti49.h5\n",
      " Reading Ti46 from /home/jlball/xs_data/endfb80_hdf5/Ti46.h5\n",
      " Reading Ti47 from /home/jlball/xs_data/endfb80_hdf5/Ti47.h5\n",
      " Reading Ti48 from /home/jlball/xs_data/endfb80_hdf5/Ti48.h5\n",
      " Reading Cr54 from /home/jlball/xs_data/endfb80_hdf5/Cr54.h5\n",
      " Reading Cr53 from /home/jlball/xs_data/endfb80_hdf5/Cr53.h5\n",
      " Reading Cr50 from /home/jlball/xs_data/endfb80_hdf5/Cr50.h5\n",
      " Reading Cr52 from /home/jlball/xs_data/endfb80_hdf5/Cr52.h5\n",
      " Reading Mn55 from /home/jlball/xs_data/endfb80_hdf5/Mn55.h5\n",
      " Reading Fe58 from /home/jlball/xs_data/endfb80_hdf5/Fe58.h5\n",
      " Reading Fe57 from /home/jlball/xs_data/endfb80_hdf5/Fe57.h5\n",
      " Reading Fe54 from /home/jlball/xs_data/endfb80_hdf5/Fe54.h5\n",
      " Reading Fe56 from /home/jlball/xs_data/endfb80_hdf5/Fe56.h5\n",
      " Reading Ni58 from /home/jlball/xs_data/endfb80_hdf5/Ni58.h5\n",
      " Reading Ni61 from /home/jlball/xs_data/endfb80_hdf5/Ni61.h5\n",
      " Reading Ni60 from /home/jlball/xs_data/endfb80_hdf5/Ni60.h5\n",
      " Reading Ni64 from /home/jlball/xs_data/endfb80_hdf5/Ni64.h5\n",
      " Reading Ni62 from /home/jlball/xs_data/endfb80_hdf5/Ni62.h5\n",
      " Reading Co59 from /home/jlball/xs_data/endfb80_hdf5/Co59.h5\n",
      " Reading Cu63 from /home/jlball/xs_data/endfb80_hdf5/Cu63.h5\n",
      " Reading Cu65 from /home/jlball/xs_data/endfb80_hdf5/Cu65.h5\n",
      " Reading Nb93 from /home/jlball/xs_data/endfb80_hdf5/Nb93.h5\n",
      " Reading Mo97 from /home/jlball/xs_data/endfb80_hdf5/Mo97.h5\n",
      " Reading Mo100 from /home/jlball/xs_data/endfb80_hdf5/Mo100.h5\n",
      " Reading Mo94 from /home/jlball/xs_data/endfb80_hdf5/Mo94.h5\n",
      " Reading Mo98 from /home/jlball/xs_data/endfb80_hdf5/Mo98.h5\n",
      " Reading Mo96 from /home/jlball/xs_data/endfb80_hdf5/Mo96.h5\n",
      " Reading Mo92 from /home/jlball/xs_data/endfb80_hdf5/Mo92.h5\n",
      " Reading Mo95 from /home/jlball/xs_data/endfb80_hdf5/Mo95.h5\n",
      " Reading W182 from /home/jlball/xs_data/endfb80_hdf5/W182.h5\n",
      " Reading W186 from /home/jlball/xs_data/endfb80_hdf5/W186.h5\n",
      " Reading W184 from /home/jlball/xs_data/endfb80_hdf5/W184.h5\n",
      " Reading W180 from /home/jlball/xs_data/endfb80_hdf5/W180.h5\n",
      " Reading W183 from /home/jlball/xs_data/endfb80_hdf5/W183.h5\n",
      " Minimum neutron data temperature: 294 K\n",
      " Maximum neutron data temperature: 294 K\n",
      " Reading tallies XML file...\n",
      " Preparing distributed cell instances...\n",
      " Reading plot XML file...\n",
      " Writing summary.h5 file...\n",
      " Maximum neutron transport energy: 20000000 eV for H1\n",
      "\n",
      " ===============>     FIXED SOURCE TRANSPORT SIMULATION     <===============\n",
      "\n",
      " Simulating batch 1\n",
      " Simulating batch 2\n",
      " Simulating batch 3\n",
      " Simulating batch 4\n",
      " Simulating batch 5\n",
      " Simulating batch 6\n",
      " Simulating batch 7\n",
      " Simulating batch 8\n",
      " Simulating batch 9\n",
      " Simulating batch 10\n",
      " Creating state point statepoint.10.h5...\n",
      "\n",
      " =======================>     TIMING STATISTICS     <=======================\n",
      "\n",
      " Total time for initialization     = 7.3322e+00 seconds\n",
      "   Reading cross sections          = 6.9284e+00 seconds\n",
      " Total time in simulation          = 2.8767e+02 seconds\n",
      "   Time in transport only          = 2.8738e+02 seconds\n",
      "   Time in active batches          = 2.8767e+02 seconds\n",
      "   Time accumulating tallies       = 2.8762e-01 seconds\n",
      "   Time writing statepoints        = 3.7881e-03 seconds\n",
      " Total time for finalization       = 6.2511e-05 seconds\n",
      " Total time elapsed                = 2.9501e+02 seconds\n",
      " Calculation Rate (active)         = 8690.46 particles/second\n",
      "\n",
      " ============================>     RESULTS     <============================\n",
      "\n",
      " Leakage Fraction            = 0.14426 +/- 0.00024\n",
      "\n"
     ]
    },
    {
     "data": {
      "text/plain": [
       "PosixPath('/home/jlball/arc-proliferation/arc2018/statepoint.10.h5')"
      ]
     },
     "execution_count": 9,
     "metadata": {},
     "output_type": "execute_result"
    }
   ],
   "source": [
    "# builds the openmc model\n",
    "model = openmc.Model(\n",
    "    materials=materials, geometry=geometry, settings=settings, tallies=tallies\n",
    ")\n",
    "\n",
    "# starts the simulation\n",
    "model.run(threads=12)"
   ]
  }
 ],
 "metadata": {
  "kernelspec": {
   "display_name": "Python 3.10.5 ('openmc_env': conda)",
   "language": "python",
   "name": "python3"
  },
  "language_info": {
   "codemirror_mode": {
    "name": "ipython",
    "version": 3
   },
   "file_extension": ".py",
   "mimetype": "text/x-python",
   "name": "python",
   "nbconvert_exporter": "python",
   "pygments_lexer": "ipython3",
   "version": "3.10.5"
  },
  "orig_nbformat": 4,
  "vscode": {
   "interpreter": {
    "hash": "45e764e0f938d6b30040af0e2374672beafce835508174d490be8d126b170f5b"
   }
  }
 },
 "nbformat": 4,
 "nbformat_minor": 2
}
