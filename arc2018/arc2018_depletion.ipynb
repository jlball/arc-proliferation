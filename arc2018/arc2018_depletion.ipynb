{
 "cells": [
  {
   "cell_type": "markdown",
   "metadata": {},
   "source": [
    "# ARC 2018 Depletion Model"
   ]
  },
  {
   "cell_type": "code",
   "execution_count": 1,
   "metadata": {},
   "outputs": [],
   "source": [
    "import openmc\n",
    "import openmc.deplete\n",
    "import neutronics_material_maker as nmm\n",
    "import math\n",
    "from create_geometry import get_volume\n"
   ]
  },
  {
   "cell_type": "markdown",
   "metadata": {},
   "source": [
    "## Materials ##"
   ]
  },
  {
   "cell_type": "markdown",
   "metadata": {},
   "source": [
    "All material management is done using `neutronics_material_maker`. The name of each material must correspond to the name of the region of the DAGMC model to which it should be assigned."
   ]
  },
  {
   "cell_type": "code",
   "execution_count": 2,
   "metadata": {},
   "outputs": [
    {
     "name": "stdout",
     "output_type": "stream",
     "text": [
      "Added materials to library from mat_lib.json\n",
      "Added material ['plasma', 'flibe', 'uf4', 'tungsten', 'lead']\n"
     ]
    }
   ],
   "source": [
    "nmm.AddMaterialFromFile(\"mat_lib.json\")\n",
    "\n",
    "# Material Parameters:\n",
    "Li6_enrichment = 7.8\n",
    "U235_enrichment = 0.007\n",
    "percent_fertile = 5 / 100\n",
    "\n",
    "plasma = nmm.Material.from_library(\"plasma\").openmc_material\n",
    "\n",
    "flibe = nmm.Material.from_library(\"flibe\", enrichment=Li6_enrichment)\n",
    "uf4 = nmm.Material.from_library(\"uf4\")\n",
    "\n",
    "#Creating materials for all four FLiBe regions by mixing UF4 and FLiBe materials by volume\n",
    "ib_tank = nmm.Material.from_mixture(name='inboard_tank', materials=[flibe, uf4], fracs=[1 - percent_fertile, percent_fertile], percent_type='vo').openmc_material\n",
    "ob_tank = nmm.Material.from_mixture(name='outboard_tank', materials=[flibe, uf4], fracs=[1 - percent_fertile, percent_fertile], percent_type='vo').openmc_material\n",
    "\n",
    "ib_cc = nmm.Material.from_mixture(name='inboard_cc', materials=[flibe, uf4], fracs=[1 - percent_fertile, percent_fertile], percent_type='vo').openmc_material\n",
    "ob_cc = nmm.Material.from_mixture(name='outboard_cc', materials=[flibe, uf4], fracs=[1 - percent_fertile, percent_fertile], percent_type='vo').openmc_material\n",
    "\n",
    "ib_tank.volume = get_volume('inboard_tank')\n",
    "ob_tank.volume = get_volume('outboard_tank')\n",
    "ib_cc.volume = get_volume('inboard_cc')\n",
    "ob_cc.volume = get_volume('outboard_cc')\n",
    "\n",
    "ib_mult = nmm.Material.from_library(\"lead\").openmc_material\n",
    "ib_mult.name = 'inboard_multiplier'\n",
    "\n",
    "ob_mult = nmm.Material.from_library(\"lead\").openmc_material\n",
    "ob_mult.name = 'outboard_multiplier'\n",
    "\n",
    "ob_outer_vv = nmm.Material.from_library(\"Inconel-718\").openmc_material\n",
    "ob_outer_vv.name = 'outboard_outer_vv'\n",
    "\n",
    "ib_outer_vv = nmm.Material.from_library(\"Inconel-718\").openmc_material\n",
    "ib_outer_vv.name = 'inboard_outer_vv'\n",
    "\n",
    "vv = nmm.Material.from_library(\"tungsten\").openmc_material\n",
    "vv.name = \"vv\"\n",
    "\n",
    "materials = openmc.Materials(\n",
    "    [\n",
    "        plasma,\n",
    "        ib_tank,\n",
    "        ob_tank,\n",
    "        ib_cc,\n",
    "        ob_cc,\n",
    "        ib_mult,\n",
    "        ob_mult,\n",
    "        ib_outer_vv,\n",
    "        ob_outer_vv,\n",
    "        vv\n",
    "    ]\n",
    ")\n"
   ]
  },
  {
   "cell_type": "markdown",
   "metadata": {},
   "source": [
    "Specify path to cross section file of desired library."
   ]
  },
  {
   "cell_type": "code",
   "execution_count": 3,
   "metadata": {},
   "outputs": [],
   "source": [
    "#Provide path to cross section data\n",
    "openmc.Materials.cross_sections = \"/home/jlball/xs_data/endfb80_hdf5/cross_sections.xml\""
   ]
  },
  {
   "cell_type": "markdown",
   "metadata": {},
   "source": [
    "## Geometry ##"
   ]
  },
  {
   "cell_type": "markdown",
   "metadata": {},
   "source": [
    "The geometry is built in a separate file which uses the Paramak code to build a DAGMC model. Here it is imported and then a bounding region is provided."
   ]
  },
  {
   "cell_type": "code",
   "execution_count": 4,
   "metadata": {},
   "outputs": [],
   "source": [
    "dag_univ = openmc.DAGMCUniverse(\"arc2018.h5m\")\n",
    "\n",
    "# creates an edge of universe boundary surface\n",
    "vac_surf = openmc.Sphere(r=10000, surface_id=9999, boundary_type=\"vacuum\")\n",
    "\n",
    "# adds reflective surface for the sector model at 0 degrees\n",
    "reflective_1 = openmc.Plane(\n",
    "    a=math.sin(0),\n",
    "    b=-math.cos(0),\n",
    "    c=0.0,\n",
    "    d=0.0,\n",
    "    surface_id=9991,\n",
    "    boundary_type=\"reflective\",\n",
    ")\n",
    "\n",
    "# specifies the region as below the universe boundary and inside the reflective surfaces\n",
    "region = -vac_surf & -reflective_1 \n",
    "\n",
    "# creates a cell from the region and fills the cell with the dagmc geometry\n",
    "containing_cell = openmc.Cell(cell_id=9999, region=region, fill=dag_univ)\n",
    "\n",
    "geometry = openmc.Geometry(root=[containing_cell])"
   ]
  },
  {
   "cell_type": "markdown",
   "metadata": {},
   "source": [
    "## Settings ##"
   ]
  },
  {
   "cell_type": "markdown",
   "metadata": {},
   "source": [
    "A simple line source geometry is defined."
   ]
  },
  {
   "cell_type": "code",
   "execution_count": 5,
   "metadata": {},
   "outputs": [],
   "source": [
    "# creates a simple isotropic neutron source in the center with 14MeV neutrons\n",
    "source = openmc.Source()\n",
    "# the distribution of radius is just a single value at the plasma major radius\n",
    "radius = openmc.stats.Discrete([330.], [1])\n",
    "# the distribution of source z values is just a single value\n",
    "z_values = openmc.stats.Discrete([0], [1])\n",
    "# the distribution of source azimuthal angles values is a uniform distribution between 0 and 0.5 Pi\n",
    "# these angles must be the same as the reflective angles\n",
    "angle = openmc.stats.Uniform(a=0., b=math.radians(180))\n",
    "# this makes the ring source using the three distributions and a radius\n",
    "source.space = openmc.stats.CylindricalIndependent(r=radius, phi=angle, z=z_values, origin=(0.0, 0.0, 0.0))\n",
    "# sets the direction to isotropic\n",
    "source.angle = openmc.stats.Isotropic()\n",
    "# sets the energy distribution to a Muir distribution neutrons\n",
    "source.energy = openmc.stats.Muir(e0=14080000.0, m_rat=5.0, kt=20000.0)\n",
    "\n",
    "# specifies the simulation computational intensity\n",
    "settings = openmc.Settings()\n",
    "settings.batches = 10\n",
    "settings.particles = 250000\n",
    "settings.inactive = 0\n",
    "settings.run_mode = \"fixed source\"\n",
    "settings.source = source"
   ]
  },
  {
   "cell_type": "markdown",
   "metadata": {},
   "source": [
    "## Tallies ##"
   ]
  },
  {
   "cell_type": "markdown",
   "metadata": {},
   "source": [
    "Definition of tallies used."
   ]
  },
  {
   "cell_type": "code",
   "execution_count": 6,
   "metadata": {},
   "outputs": [],
   "source": [
    "# Tritium Breeding Tally:\n",
    "trit_tally = openmc.Tally(name='tbr')\n",
    "#trit_tally.filters = [blanket_filter]\n",
    "trit_tally.scores = [\"(n,Xt)\"]\n",
    "\n",
    "# Tritium Breeding Tally:\n",
    "Be_tally = openmc.Tally(name='Be')\n",
    "#Be_tally.filters = [blanket_filter]\n",
    "Be_tally.scores = [\"(n,2n)\"]\n",
    "\n",
    "# Plutonium Breeding Tally:\n",
    "plut_tally = openmc.Tally(name='pbr')\n",
    "plut_tally.nuclides = ['U238']\n",
    "#plut_tally.filters = [blanket_filter]\n",
    "plut_tally.scores = [\"absorption\"]\n",
    "\n",
    "#Fission tally\n",
    "fis_tally = openmc.Tally(name='fis')\n",
    "#fis_tally.filters = [blanket_filter]\n",
    "fis_tally.scores = ['fission']\n",
    "\n",
    "tallies = openmc.Tallies([trit_tally, plut_tally, Be_tally, fis_tally])"
   ]
  },
  {
   "cell_type": "markdown",
   "metadata": {},
   "source": [
    "## Run "
   ]
  },
  {
   "cell_type": "code",
   "execution_count": 7,
   "metadata": {},
   "outputs": [],
   "source": [
    "# builds the openmc model\n",
    "model = openmc.Model(\n",
    "    materials=materials, geometry=geometry, settings=settings, tallies=tallies\n",
    ")"
   ]
  },
  {
   "cell_type": "code",
   "execution_count": 8,
   "metadata": {},
   "outputs": [],
   "source": [
    "# The following code was taken from / is based on an example from Jonathan Shimwell: \n",
    "\n",
    "###\n",
    "# this tells openmc the decay paths between isotopes including proabilities of different routes and half lives\n",
    "chain_filename = 'chain_endfb71_pwr.xml'\n",
    "chain = openmc.deplete.Chain.from_xml(chain_filename)\n",
    "\n",
    "operator = openmc.deplete.Operator(model, chain_filename, normalization_mode='source-rate')\n",
    "\n",
    "# 1.86e20 neutrons per second for 20 80 hour timesteps\n",
    "time_steps = [100000*60*60] * 5\n",
    "source_rates = [1.86e20]* 5\n",
    "\n",
    "integrator = openmc.deplete.EPCRK4Integrator(\n",
    "    operator=operator, timesteps=time_steps, source_rates=source_rates, \n",
    ")"
   ]
  },
  {
   "cell_type": "code",
   "execution_count": 9,
   "metadata": {},
   "outputs": [
    {
     "ename": "",
     "evalue": "",
     "output_type": "error",
     "traceback": [
      "\u001b[1;31mCanceled future for execute_request message before replies were done"
     ]
    },
    {
     "ename": "",
     "evalue": "",
     "output_type": "error",
     "traceback": [
      "\u001b[1;31mThe Kernel crashed while executing code in the the current cell or a previous cell. Please review the code in the cell(s) to identify a possible cause of the failure. Click <a href='https://aka.ms/vscodeJupyterKernelCrash'>here</a> for more info. View Jupyter <a href='command:jupyter.viewOutput'>log</a> for further details."
     ]
    }
   ],
   "source": [
    "integrator.integrate()"
   ]
  }
 ],
 "metadata": {
  "kernelspec": {
   "display_name": "Python 3.8.13 ('paramak_env': conda)",
   "language": "python",
   "name": "python3"
  },
  "language_info": {
   "codemirror_mode": {
    "name": "ipython",
    "version": 3
   },
   "file_extension": ".py",
   "mimetype": "text/x-python",
   "name": "python",
   "nbconvert_exporter": "python",
   "pygments_lexer": "ipython3",
   "version": "3.8.13"
  },
  "orig_nbformat": 4,
  "vscode": {
   "interpreter": {
    "hash": "25665a3b53860830bd577ee748bd6a084f5a88bcee9d355a4fbef8ac4404a115"
   }
  }
 },
 "nbformat": 4,
 "nbformat_minor": 2
}
