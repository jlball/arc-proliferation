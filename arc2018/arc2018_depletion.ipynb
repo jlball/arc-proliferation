{
 "cells": [
  {
   "cell_type": "markdown",
   "metadata": {},
   "source": [
    "# ARC 2018 Depletion Model"
   ]
  },
  {
   "cell_type": "code",
   "execution_count": 18,
   "metadata": {},
   "outputs": [],
   "source": [
    "import openmc\n",
    "import openmc.deplete\n",
    "import openmc.data as data\n",
    "import neutronics_material_maker as nmm\n",
    "import math\n",
    "import json\n",
    "import numpy as np\n",
    "import matplotlib.pyplot as plt"
   ]
  },
  {
   "cell_type": "markdown",
   "metadata": {},
   "source": [
    "## Materials ##"
   ]
  },
  {
   "cell_type": "markdown",
   "metadata": {},
   "source": [
    "All material management is done using `neutronics_material_maker`. The name of each material must correspond to the name of the region of the DAGMC model to which it should be assigned."
   ]
  },
  {
   "cell_type": "code",
   "execution_count": 2,
   "metadata": {},
   "outputs": [],
   "source": [
    "# Import and read JSON file containing volume information computed by paramak\n",
    "file = open('arc2018_volumes.json',)\n",
    "volumes = json.load(file)\n",
    "file.close()"
   ]
  },
  {
   "cell_type": "code",
   "execution_count": 3,
   "metadata": {},
   "outputs": [
    {
     "name": "stdout",
     "output_type": "stream",
     "text": [
      "Added materials to library from mat_lib.json\n",
      "Added material ['plasma', 'flibe', 'uf4', 'tungsten', 'lead']\n"
     ]
    }
   ],
   "source": [
    "nmm.AddMaterialFromFile(\"mat_lib.json\")\n",
    "\n",
    "# Material Parameters:\n",
    "Li6_enrichment = 7.8\n",
    "U235_enrichment = 0.007\n",
    "percent_fertile = 5 / 100\n",
    "\n",
    "plasma = nmm.Material.from_library(\"plasma\").openmc_material\n",
    "\n",
    "flibe = nmm.Material.from_library(\"flibe\", enrichment=Li6_enrichment)\n",
    "uf4 = nmm.Material.from_library(\"uf4\")\n",
    "\n",
    "#Creating materials for all four FLiBe regions by mixing UF4 and FLiBe materials by volume\n",
    "ib_tank = nmm.Material.from_mixture(name='inboard_tank', materials=[flibe, uf4], fracs=[1 - percent_fertile, percent_fertile], percent_type='vo').openmc_material\n",
    "ob_tank = nmm.Material.from_mixture(name='outboard_tank', materials=[flibe, uf4], fracs=[1 - percent_fertile, percent_fertile], percent_type='vo').openmc_material\n",
    "\n",
    "ib_cc = nmm.Material.from_mixture(name='inboard_cc', materials=[flibe, uf4], fracs=[1 - percent_fertile, percent_fertile], percent_type='vo').openmc_material\n",
    "ob_cc = nmm.Material.from_mixture(name='outboard_cc', materials=[flibe, uf4], fracs=[1 - percent_fertile, percent_fertile], percent_type='vo').openmc_material\n",
    "\n",
    "ib_tank.volume = volumes['inboard_tank']\n",
    "ob_tank.volume = volumes['outboard_tank']\n",
    "ib_cc.volume = volumes['inboard_cc']\n",
    "ob_cc.volume = volumes['outboard_cc']\n",
    "\n",
    "ib_mult = nmm.Material.from_library(\"lead\").openmc_material\n",
    "ib_mult.name = 'inboard_multiplier'\n",
    "\n",
    "ob_mult = nmm.Material.from_library(\"lead\").openmc_material\n",
    "ob_mult.name = 'outboard_multiplier'\n",
    "\n",
    "ob_outer_vv = nmm.Material.from_library(\"Inconel-718\").openmc_material\n",
    "ob_outer_vv.name = 'outboard_outer_vv'\n",
    "\n",
    "ib_outer_vv = nmm.Material.from_library(\"Inconel-718\").openmc_material\n",
    "ib_outer_vv.name = 'inboard_outer_vv'\n",
    "\n",
    "vv = nmm.Material.from_library(\"tungsten\").openmc_material\n",
    "vv.name = \"vv\"\n",
    "\n",
    "materials = openmc.Materials(\n",
    "    [\n",
    "        plasma,\n",
    "        ib_tank,\n",
    "        ob_tank,\n",
    "        ib_cc,\n",
    "        ob_cc,\n",
    "        ib_mult,\n",
    "        ob_mult,\n",
    "        ib_outer_vv,\n",
    "        ob_outer_vv,\n",
    "        vv\n",
    "    ]\n",
    ")\n"
   ]
  },
  {
   "cell_type": "markdown",
   "metadata": {},
   "source": [
    "Specify path to cross section file of desired library."
   ]
  },
  {
   "cell_type": "code",
   "execution_count": 4,
   "metadata": {},
   "outputs": [],
   "source": [
    "#Provide path to cross section data\n",
    "openmc.Materials.cross_sections = \"/home/jlball/xs_data/endfb80_hdf5/cross_sections.xml\""
   ]
  },
  {
   "cell_type": "markdown",
   "metadata": {},
   "source": [
    "## Geometry ##"
   ]
  },
  {
   "cell_type": "markdown",
   "metadata": {},
   "source": [
    "The geometry is built in a separate file which uses the Paramak code to build a DAGMC model. Here it is imported and then a bounding region is provided."
   ]
  },
  {
   "cell_type": "code",
   "execution_count": 5,
   "metadata": {},
   "outputs": [],
   "source": [
    "dag_univ = openmc.DAGMCUniverse(\"arc2018.h5m\")\n",
    "\n",
    "# creates an edge of universe boundary surface\n",
    "vac_surf = openmc.Sphere(r=10000, surface_id=9999, boundary_type=\"vacuum\")\n",
    "\n",
    "# adds reflective surface for the sector model at 0 degrees\n",
    "reflective_1 = openmc.Plane(\n",
    "    a=math.sin(0),\n",
    "    b=-math.cos(0),\n",
    "    c=0.0,\n",
    "    d=0.0,\n",
    "    surface_id=9991,\n",
    "    boundary_type=\"reflective\",\n",
    ")\n",
    "\n",
    "# specifies the region as below the universe boundary and inside the reflective surfaces\n",
    "region = -vac_surf & -reflective_1 \n",
    "\n",
    "# creates a cell from the region and fills the cell with the dagmc geometry\n",
    "containing_cell = openmc.Cell(cell_id=9999, region=region, fill=dag_univ)\n",
    "\n",
    "geometry = openmc.Geometry(root=[containing_cell])"
   ]
  },
  {
   "cell_type": "markdown",
   "metadata": {},
   "source": [
    "## Settings ##"
   ]
  },
  {
   "cell_type": "markdown",
   "metadata": {},
   "source": [
    "A simple line source geometry is defined."
   ]
  },
  {
   "cell_type": "code",
   "execution_count": 6,
   "metadata": {},
   "outputs": [],
   "source": [
    "# creates a simple isotropic neutron source in the center with 14MeV neutrons\n",
    "source = openmc.Source()\n",
    "# the distribution of radius is just a single value at the plasma major radius\n",
    "radius = openmc.stats.Discrete([330.], [1])\n",
    "# the distribution of source z values is just a single value\n",
    "z_values = openmc.stats.Discrete([0], [1])\n",
    "# the distribution of source azimuthal angles values is a uniform distribution between 0 and 0.5 Pi\n",
    "# these angles must be the same as the reflective angles\n",
    "angle = openmc.stats.Uniform(a=0., b=math.radians(180))\n",
    "# this makes the ring source using the three distributions and a radius\n",
    "source.space = openmc.stats.CylindricalIndependent(r=radius, phi=angle, z=z_values, origin=(0.0, 0.0, 0.0))\n",
    "# sets the direction to isotropic\n",
    "source.angle = openmc.stats.Isotropic()\n",
    "# sets the energy distribution to a Muir distribution neutrons\n",
    "source.energy = openmc.stats.Muir(e0=14080000.0, m_rat=5.0, kt=20000.0)\n",
    "\n",
    "# specifies the simulation computational intensity\n",
    "settings = openmc.Settings()\n",
    "settings.batches = 10\n",
    "settings.particles = 500\n",
    "settings.inactive = 0\n",
    "settings.run_mode = \"fixed source\"\n",
    "settings.source = source"
   ]
  },
  {
   "cell_type": "markdown",
   "metadata": {},
   "source": [
    "## Tallies ##"
   ]
  },
  {
   "cell_type": "markdown",
   "metadata": {},
   "source": [
    "Definition of tallies used."
   ]
  },
  {
   "cell_type": "code",
   "execution_count": 7,
   "metadata": {},
   "outputs": [],
   "source": [
    "# Tritium Breeding Tally:\n",
    "trit_tally = openmc.Tally(name='tbr')\n",
    "#trit_tally.filters = [blanket_filter]\n",
    "trit_tally.scores = [\"(n,Xt)\"]\n",
    "\n",
    "# Tritium Breeding Tally:\n",
    "Be_tally = openmc.Tally(name='Be')\n",
    "#Be_tally.filters = [blanket_filter]\n",
    "Be_tally.scores = [\"(n,2n)\"]\n",
    "\n",
    "# Plutonium Breeding Tally:\n",
    "plut_tally = openmc.Tally(name='pbr')\n",
    "plut_tally.nuclides = ['U238']\n",
    "#plut_tally.filters = [blanket_filter]\n",
    "plut_tally.scores = [\"absorption\"]\n",
    "\n",
    "#Fission tally\n",
    "fis_tally = openmc.Tally(name='fis')\n",
    "#fis_tally.filters = [blanket_filter]\n",
    "fis_tally.scores = ['fission']\n",
    "\n",
    "tallies = openmc.Tallies([trit_tally, plut_tally, Be_tally, fis_tally])"
   ]
  },
  {
   "cell_type": "markdown",
   "metadata": {},
   "source": [
    "## Run "
   ]
  },
  {
   "cell_type": "code",
   "execution_count": 8,
   "metadata": {},
   "outputs": [],
   "source": [
    "# builds the openmc model\n",
    "model = openmc.Model(\n",
    "    materials=materials, geometry=geometry, settings=settings, tallies=tallies\n",
    ")"
   ]
  },
  {
   "cell_type": "code",
   "execution_count": 9,
   "metadata": {},
   "outputs": [],
   "source": [
    "# The following code was taken from / is based on an example from Jonathan Shimwell: \n",
    "\n",
    "###\n",
    "# this tells openmc the decay paths between isotopes including proabilities of different routes and half lives\n",
    "chain_filename = 'chain_endfb71_pwr.xml'\n",
    "chain = openmc.deplete.Chain.from_xml(chain_filename)\n",
    "\n",
    "operator = openmc.deplete.Operator(model, chain_filename, normalization_mode='source-rate')\n",
    "\n",
    "# 1.86e20 neutrons per second for 20 80 hour timesteps\n",
    "time_steps = [100000*60*60] * 5\n",
    "source_rates = [1.86e20]* 5\n",
    "\n",
    "integrator = openmc.deplete.EPCRK4Integrator(\n",
    "    operator=operator, timesteps=time_steps, source_rates=source_rates, \n",
    ")"
   ]
  },
  {
   "cell_type": "code",
   "execution_count": null,
   "metadata": {},
   "outputs": [],
   "source": [
    "integrator.integrate()"
   ]
  },
  {
   "cell_type": "markdown",
   "metadata": {},
   "source": [
    "# Results"
   ]
  },
  {
   "cell_type": "markdown",
   "metadata": {},
   "source": []
  },
  {
   "cell_type": "code",
   "execution_count": 14,
   "metadata": {},
   "outputs": [],
   "source": [
    "results = openmc.deplete.ResultsList.from_hdf5(\"depletion_results.h5\")\n",
    "times, _ = results.get_atoms(\"9\", 'Pu239') \n",
    "\n",
    "#List of plutonium isotopes whose masses will be plotted\n",
    "plut_isotopes = ['Pu238', 'Pu239', 'Pu240', 'Pu241']\n",
    "\n",
    "#List of fissile isotopes whose fission powers will be plotted\n",
    "fis_isotopes = ['Pu239', 'Pu241', \"U235\", 'U238']\n",
    "\n",
    "#List of fission products whose masses will be plotted\n",
    "fis_products = ['Cs137', 'Sr90', 'Pm147']\n",
    "\n",
    "blanket_material_ids = ['9', '19', '14', '24']\n",
    "\n",
    "times = times /(365 * 24 * 60 * 60) #Convert to years\n",
    "\n",
    "#Extract fission and TBR values from statepoint files\n",
    "tbr_std, tbr_vals, fis_std, fis_vals = np.empty(len(times)), np.empty(len(times)), np.empty(len(times)), np.empty(len(times))\n",
    "for i in range(0, len(times)):\n",
    "    sp = openmc.StatePoint(f'openmc_simulation_n{i}.h5')\n",
    "    \n",
    "    #Extract TBR values and std dev at each step in the simulation\n",
    "    tbr_tally = sp.get_tally(name='tbr')\n",
    "    tbr_vals[i] = tbr_tally.mean\n",
    "    tbr_std[i] = tbr_tally.std_dev\n",
    "\n",
    "    #Extract fission rates and std devs from each transport simulation\n",
    "    fis_tally = sp.get_tally(name='fis')\n",
    "    fis_vals[i] = fis_tally.mean\n",
    "    fis_std[i] = fis_tally.std_dev\n",
    "\n",
    "#Convert fission tally result to power in megawatts: total source rate (Hz) * energy per fission in MeV * joules/MeV * MW/W\n",
    "fis_power = fis_vals * 1.86e20 * 200 * 1.602e-13 * 1e-6 \n"
   ]
  },
  {
   "cell_type": "code",
   "execution_count": 16,
   "metadata": {},
   "outputs": [],
   "source": [
    "# Helper functions\n",
    "#Converts number of atoms to kg of that isotope\n",
    "def convert_to_kg(num_atoms, isotope):\n",
    "    moles = num_atoms / (6.022e23) #divide by avogadro number to get in moles\n",
    "    mass = (moles * data.atomic_mass(isotope))*0.001 #in kg (atmoic mass is molar mass in units of g/mol)\n",
    "    return mass\n",
    "\n",
    "#Retrieve the mass of a particular isotope in the blanket\n",
    "def get_mass(isotope):\n",
    "    atoms = 0\n",
    "    for mat in blanket_material_ids:\n",
    "        _, result = results.get_atoms(mat, isotope)\n",
    "        atoms += result\n",
    "\n",
    "    mass = convert_to_kg(atoms, isotope)\n",
    "    return mass\n",
    "\n",
    "# Go from a fission rate to a fission power\n",
    "def get_fis_power(isotope):\n",
    "    fis_rate = 0\n",
    "    for mat in blanket_material_ids:\n",
    "        _, result = results.get_reaction_rate(mat, isotope, 'fission')\n",
    "        fis_rate += result\n",
    "\n",
    "    power = fis_rate * 200 * 1.602e-13 * 1e-6 #Covert from rate to MW of power\n",
    "    return power"
   ]
  },
  {
   "cell_type": "code",
   "execution_count": 17,
   "metadata": {},
   "outputs": [
    {
     "ename": "KeyError",
     "evalue": "'4'",
     "output_type": "error",
     "traceback": [
      "\u001b[0;31m---------------------------------------------------------------------------\u001b[0m",
      "\u001b[0;31mKeyError\u001b[0m                                  Traceback (most recent call last)",
      "\u001b[1;32m/home/jlball/arc-proliferation/arc2018/arc2018_depletion.ipynb Cell 26\u001b[0m in \u001b[0;36m<cell line: 5>\u001b[0;34m()\u001b[0m\n\u001b[1;32m      <a href='vscode-notebook-cell://wsl%2Bubuntu/home/jlball/arc-proliferation/arc2018/arc2018_depletion.ipynb#ch0000025vscode-remote?line=3'>4</a>\u001b[0m \u001b[39m#Plot of Plutonium Mass\u001b[39;00m\n\u001b[1;32m      <a href='vscode-notebook-cell://wsl%2Bubuntu/home/jlball/arc-proliferation/arc2018/arc2018_depletion.ipynb#ch0000025vscode-remote?line=4'>5</a>\u001b[0m \u001b[39mfor\u001b[39;00m iso \u001b[39min\u001b[39;00m plut_isotopes:\n\u001b[0;32m----> <a href='vscode-notebook-cell://wsl%2Bubuntu/home/jlball/arc-proliferation/arc2018/arc2018_depletion.ipynb#ch0000025vscode-remote?line=5'>6</a>\u001b[0m     axs[\u001b[39m0\u001b[39m, \u001b[39m0\u001b[39m]\u001b[39m.\u001b[39mplot(times, get_mass(iso), label\u001b[39m=\u001b[39miso)\n\u001b[1;32m      <a href='vscode-notebook-cell://wsl%2Bubuntu/home/jlball/arc-proliferation/arc2018/arc2018_depletion.ipynb#ch0000025vscode-remote?line=6'>7</a>\u001b[0m axs[\u001b[39m0\u001b[39m, \u001b[39m0\u001b[39m]\u001b[39m.\u001b[39mset(xlabel\u001b[39m=\u001b[39m\u001b[39m'\u001b[39m\u001b[39mtime (years)\u001b[39m\u001b[39m'\u001b[39m, ylabel\u001b[39m=\u001b[39m\u001b[39m'\u001b[39m\u001b[39mMass (kg)\u001b[39m\u001b[39m'\u001b[39m,\n\u001b[1;32m      <a href='vscode-notebook-cell://wsl%2Bubuntu/home/jlball/arc-proliferation/arc2018/arc2018_depletion.ipynb#ch0000025vscode-remote?line=7'>8</a>\u001b[0m     title\u001b[39m=\u001b[39m\u001b[39m'\u001b[39m\u001b[39mBuild up of Plutonium Isotopes in 1 percent Fertile Blanket\u001b[39m\u001b[39m'\u001b[39m)\n\u001b[1;32m      <a href='vscode-notebook-cell://wsl%2Bubuntu/home/jlball/arc-proliferation/arc2018/arc2018_depletion.ipynb#ch0000025vscode-remote?line=8'>9</a>\u001b[0m axs[\u001b[39m0\u001b[39m, \u001b[39m0\u001b[39m]\u001b[39m.\u001b[39mlegend()\n",
      "\u001b[1;32m/home/jlball/arc-proliferation/arc2018/arc2018_depletion.ipynb Cell 26\u001b[0m in \u001b[0;36mget_mass\u001b[0;34m(isotope)\u001b[0m\n\u001b[1;32m      <a href='vscode-notebook-cell://wsl%2Bubuntu/home/jlball/arc-proliferation/arc2018/arc2018_depletion.ipynb#ch0000025vscode-remote?line=8'>9</a>\u001b[0m \u001b[39mdef\u001b[39;00m \u001b[39mget_mass\u001b[39m(isotope):\n\u001b[0;32m---> <a href='vscode-notebook-cell://wsl%2Bubuntu/home/jlball/arc-proliferation/arc2018/arc2018_depletion.ipynb#ch0000025vscode-remote?line=9'>10</a>\u001b[0m     _, atoms_in \u001b[39m=\u001b[39m results\u001b[39m.\u001b[39;49mget_atoms(\u001b[39m'\u001b[39;49m\u001b[39m4\u001b[39;49m\u001b[39m'\u001b[39;49m, isotope)\n\u001b[1;32m     <a href='vscode-notebook-cell://wsl%2Bubuntu/home/jlball/arc-proliferation/arc2018/arc2018_depletion.ipynb#ch0000025vscode-remote?line=10'>11</a>\u001b[0m     _, atoms_out \u001b[39m=\u001b[39m results\u001b[39m.\u001b[39mget_atoms(\u001b[39m'\u001b[39m\u001b[39m5\u001b[39m\u001b[39m'\u001b[39m, isotope)\n\u001b[1;32m     <a href='vscode-notebook-cell://wsl%2Bubuntu/home/jlball/arc-proliferation/arc2018/arc2018_depletion.ipynb#ch0000025vscode-remote?line=12'>13</a>\u001b[0m     mass \u001b[39m=\u001b[39m convert_to_kg(atoms_in \u001b[39m+\u001b[39m atoms_out, isotope)\n",
      "File \u001b[0;32m~/miniconda3/envs/openmc_env/lib/python3.10/site-packages/openmc/deplete/results_list.py:93\u001b[0m, in \u001b[0;36mResultsList.get_atoms\u001b[0;34m(self, mat, nuc, nuc_units, time_units)\u001b[0m\n\u001b[1;32m     91\u001b[0m \u001b[39mfor\u001b[39;00m i, result \u001b[39min\u001b[39;00m \u001b[39menumerate\u001b[39m(\u001b[39mself\u001b[39m):\n\u001b[1;32m     92\u001b[0m     times[i] \u001b[39m=\u001b[39m result\u001b[39m.\u001b[39mtime[\u001b[39m0\u001b[39m]\n\u001b[0;32m---> 93\u001b[0m     concentrations[i] \u001b[39m=\u001b[39m result[\u001b[39m0\u001b[39;49m, mat, nuc]\n\u001b[1;32m     95\u001b[0m \u001b[39m# Unit conversions\u001b[39;00m\n\u001b[1;32m     96\u001b[0m \u001b[39mif\u001b[39;00m time_units \u001b[39m==\u001b[39m \u001b[39m\"\u001b[39m\u001b[39md\u001b[39m\u001b[39m\"\u001b[39m:\n",
      "File \u001b[0;32m~/miniconda3/envs/openmc_env/lib/python3.10/site-packages/openmc/deplete/results.py:90\u001b[0m, in \u001b[0;36mResults.__getitem__\u001b[0;34m(self, pos)\u001b[0m\n\u001b[1;32m     88\u001b[0m stage, mat, nuc \u001b[39m=\u001b[39m pos\n\u001b[1;32m     89\u001b[0m \u001b[39mif\u001b[39;00m \u001b[39misinstance\u001b[39m(mat, \u001b[39mstr\u001b[39m):\n\u001b[0;32m---> 90\u001b[0m     mat \u001b[39m=\u001b[39m \u001b[39mself\u001b[39;49m\u001b[39m.\u001b[39;49mmat_to_ind[mat]\n\u001b[1;32m     91\u001b[0m \u001b[39mif\u001b[39;00m \u001b[39misinstance\u001b[39m(nuc, \u001b[39mstr\u001b[39m):\n\u001b[1;32m     92\u001b[0m     nuc \u001b[39m=\u001b[39m \u001b[39mself\u001b[39m\u001b[39m.\u001b[39mnuc_to_ind[nuc]\n",
      "\u001b[0;31mKeyError\u001b[0m: '4'"
     ]
    },
    {
     "data": {
      "image/png": "[encoded data removed]",
      "text/plain": [
       "<Figure size 432x288 with 4 Axes>"
      ]
     },
     "metadata": {
      "needs_background": "light"
     },
     "output_type": "display_data"
    }
   ],
   "source": [
    "### Plotting ###\n",
    "fig, axs = plt.subplots(2, 2)\n",
    "\n",
    "#Plot of Plutonium Mass\n",
    "for iso in plut_isotopes:\n",
    "    axs[0, 0].plot(times, get_mass(iso), label=iso)\n",
    "axs[0, 0].set(xlabel='time (years)', ylabel='Mass (kg)',\n",
    "    title='Build up of Plutonium Isotopes in 1 percent Fertile Blanket')\n",
    "axs[0, 0].legend()\n",
    "axs[0, 0].grid()\n",
    "\n",
    "#Plot of fission power\n",
    "axs[1, 0].plot(times, fis_power, label='Total Fission Power')\n",
    "for iso in fis_isotopes:\n",
    "    axs[1, 0].plot(times, get_fis_power(iso), label=iso)\n",
    "axs[1, 0].set(xlabel='time (years)', ylabel='Power (MW)',\n",
    "    title='Fission Power in 1 percent Fertile Blanket')\n",
    "axs[1, 0].legend()\n",
    "axs[1, 0].grid()\n",
    "\n",
    "#Plot of Uranium mass\n",
    "axs[0, 1].plot(times, get_mass('U238'), label='U238')\n",
    "axs[0, 1].set(xlabel='time (years)', ylabel='Mass (kg)',\n",
    "    title='Mass of U238 in 1 percent Fertile Blanket')\n",
    "axs[0, 1].grid()\n",
    "\n",
    "#Plot of fission product masses\n",
    "for iso in fis_products:\n",
    "    axs[1, 1].plot(times, get_mass(iso), label=iso)\n",
    "axs[1, 1].set(xlabel='time (years)', ylabel='Mass (kg)',\n",
    "    title='Mass of Certain Fission Products in 1 percent Fertile Blanket')\n",
    "axs[1, 1].legend()\n",
    "axs[1, 1].grid()\n",
    "\n",
    "plt.show()"
   ]
  }
 ],
 "metadata": {
  "kernelspec": {
   "display_name": "Python 3.10.5 ('openmc_env': conda)",
   "language": "python",
   "name": "python3"
  },
  "language_info": {
   "codemirror_mode": {
    "name": "ipython",
    "version": 3
   },
   "file_extension": ".py",
   "mimetype": "text/x-python",
   "name": "python",
   "nbconvert_exporter": "python",
   "pygments_lexer": "ipython3",
   "version": "3.10.5"
  },
  "orig_nbformat": 4,
  "vscode": {
   "interpreter": {
    "hash": "45e764e0f938d6b30040af0e2374672beafce835508174d490be8d126b170f5b"
   }
  }
 },
 "nbformat": 4,
 "nbformat_minor": 2
}
