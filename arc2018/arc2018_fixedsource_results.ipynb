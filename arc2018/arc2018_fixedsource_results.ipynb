{
 "cells": [
  {
   "cell_type": "markdown",
   "metadata": {},
   "source": [
    "# ARC 2018 Fixed Source Analysis"
   ]
  },
  {
   "cell_type": "code",
   "execution_count": 10,
   "metadata": {},
   "outputs": [],
   "source": [
    "import openmc\n",
    "import matplotlib.pyplot as plt\n",
    "from scipy.constants import Avogadro"
   ]
  },
  {
   "cell_type": "code",
   "execution_count": 2,
   "metadata": {},
   "outputs": [],
   "source": [
    "# open the results file\n",
    "sp = openmc.StatePoint(\"statepoint.10.h5\")\n",
    "\n",
    "#Need to specify the actual total source rate of the real ARC reactor\n",
    "n_rate = 1.86e20 # per second"
   ]
  },
  {
   "cell_type": "markdown",
   "metadata": {},
   "source": [
    "## Tritium Breeding Ratio"
   ]
  },
  {
   "cell_type": "code",
   "execution_count": 5,
   "metadata": {},
   "outputs": [
    {
     "name": "stdout",
     "output_type": "stream",
     "text": [
      "trit value: [[[0.87078093]]] +/- [[[0.000755]]]\n"
     ]
    }
   ],
   "source": [
    "trit_tally = sp.get_tally(name='tbr')\n",
    "trit_value = trit_tally.get_values(scores=['(n,Xt)'])\n",
    "print('trit value:', trit_tally.mean, \"+/-\", trit_tally.std_dev)"
   ]
  },
  {
   "cell_type": "markdown",
   "metadata": {},
   "source": [
    "## Plutonium Breeding Rate"
   ]
  },
  {
   "cell_type": "code",
   "execution_count": 6,
   "metadata": {},
   "outputs": [
    {
     "name": "stdout",
     "output_type": "stream",
     "text": [
      "plut value: 0.12322197707194907 +/- [[[0.00015912]]]\n"
     ]
    }
   ],
   "source": [
    "plut_tally = sp.get_tally(name='pbr')\n",
    "plut_value = plut_tally.get_values(scores=['absorption'])[0][0][0]\n",
    "print('plut value:', plut_value, \"+/-\", plut_tally.std_dev)"
   ]
  },
  {
   "cell_type": "markdown",
   "metadata": {},
   "source": [
    "## Beryllium (n, 2n) Rate"
   ]
  },
  {
   "cell_type": "code",
   "execution_count": 7,
   "metadata": {},
   "outputs": [
    {
     "name": "stdout",
     "output_type": "stream",
     "text": [
      "Be value: [[[0.53335839]]] +/- [[[0.00024559]]]\n"
     ]
    }
   ],
   "source": [
    "Be_tally = sp.get_tally(name='Be')\n",
    "Be_value = Be_tally.get_values(scores=['(n,2n)'])\n",
    "print('Be value:', Be_value, \"+/-\", Be_tally.std_dev)"
   ]
  },
  {
   "cell_type": "markdown",
   "metadata": {},
   "source": [
    "## Fission Rate and Power"
   ]
  },
  {
   "cell_type": "code",
   "execution_count": 15,
   "metadata": {},
   "outputs": [
    {
     "name": "stdout",
     "output_type": "stream",
     "text": [
      "Fis value: 0.012258602403552568 +/- [[[8.40990728e-06]]]\n",
      "Total Fission Power: 73.1 MW\n"
     ]
    }
   ],
   "source": [
    "fis_tally = sp.get_tally(name='fis')\n",
    "fis_value = fis_tally.get_values(scores=['fission'])[0][0][0]\n",
    "print('Fis value:', fis_value, \"+/-\", fis_tally.std_dev)\n",
    "\n",
    "fis_rate = fis_value * n_rate\n",
    "energy_per_fission = 200 * 1.602e-13 # Joules\n",
    "fis_power = fis_rate * energy_per_fission * 1e-6 # MW\n",
    "\n",
    "print(\"Total Fission Power:\", round(fis_power, 1), 'MW')"
   ]
  },
  {
   "cell_type": "markdown",
   "metadata": {},
   "source": [
    "## Time to Significant Quantity"
   ]
  },
  {
   "cell_type": "code",
   "execution_count": 11,
   "metadata": {},
   "outputs": [
    {
     "name": "stdout",
     "output_type": "stream",
     "text": [
      "Time to Pu sig. quantity: 879320.3 seconds or 244.26 hours\n"
     ]
    }
   ],
   "source": [
    "#Compute time to significant quantity:\n",
    "pu_molar_mass = openmc.data.atomic_mass('Pu239') #g/mol\n",
    "pu_sig_quantity = 8000 #grams\n",
    "\n",
    "pu_sig_quantity_atoms = (pu_sig_quantity / pu_molar_mass) * Avogadro #Number of thorium nuclei in a significant quantity\n",
    "\n",
    "breed_rate = n_rate * plut_value\n",
    "\n",
    "time_to_sq = pu_sig_quantity_atoms / breed_rate\n",
    "\n",
    "print(\"Time to Pu sig. quantity:\", round(time_to_sq, 2), \"seconds or\", round(time_to_sq/3600, 2), \"hours\")"
   ]
  }
 ],
 "metadata": {
  "kernelspec": {
   "display_name": "Python 3.10.5 ('openmc_env': conda)",
   "language": "python",
   "name": "python3"
  },
  "language_info": {
   "codemirror_mode": {
    "name": "ipython",
    "version": 3
   },
   "file_extension": ".py",
   "mimetype": "text/x-python",
   "name": "python",
   "nbconvert_exporter": "python",
   "pygments_lexer": "ipython3",
   "version": "3.10.5"
  },
  "orig_nbformat": 4,
  "vscode": {
   "interpreter": {
    "hash": "45e764e0f938d6b30040af0e2374672beafce835508174d490be8d126b170f5b"
   }
  }
 },
 "nbformat": 4,
 "nbformat_minor": 2
}
