{
 "cells": [
  {
   "cell_type": "markdown",
   "metadata": {},
   "source": [
    "# ARC 2018 Depletion Model"
   ]
  },
  {
   "cell_type": "code",
   "execution_count": 23,
   "metadata": {},
   "outputs": [],
   "source": [
    "import openmc\n",
    "import openmc.deplete\n",
    "import openmc.data as data\n",
    "import neutronics_material_maker as nmm\n",
    "import math\n",
    "import json\n",
    "import numpy as np\n",
    "import matplotlib.pyplot as plt\n",
    "from scipy.constants import Avogadro\n",
    "from numpy.polynomial.polynomial import Polynomial"
   ]
  },
  {
   "cell_type": "markdown",
   "metadata": {},
   "source": [
    "### Input Parameters"
   ]
  },
  {
   "cell_type": "markdown",
   "metadata": {},
   "source": [
    "Below are all of the inputs needed to run the depletion scan simulation:"
   ]
  },
  {
   "cell_type": "code",
   "execution_count": 24,
   "metadata": {},
   "outputs": [],
   "source": [
    "main_folder_path = \"/home/jlball/arc-proliferation/arc2018/\"\n",
    "xs_data_path = \"/home/jlball/xs_data/endfb80_hdf5/cross_sections.xml\"\n",
    "chain_file = \"simplified_chain_fast_spectrum.xml\"\n",
    "dopant_species = [\"U\", \"Th\"]\n",
    "Li6_enrichment = 7.8\n",
    "percents_fertile = [1, 5]\n",
    "particles_per_batch = 100"
   ]
  },
  {
   "cell_type": "markdown",
   "metadata": {},
   "source": [
    "## Materials ##"
   ]
  },
  {
   "cell_type": "markdown",
   "metadata": {},
   "source": [
    "All material management is done using `neutronics_material_maker`. The name of each material must correspond to the name of the region of the DAGMC model to which it should be assigned."
   ]
  },
  {
   "cell_type": "code",
   "execution_count": 25,
   "metadata": {},
   "outputs": [],
   "source": [
    "# Import and read JSON file containing volume information computed by paramak\n",
    "file = open(main_folder_path + 'arc2018_volumes.json',)\n",
    "volumes = json.load(file)\n",
    "file.close()"
   ]
  },
  {
   "cell_type": "code",
   "execution_count": 26,
   "metadata": {},
   "outputs": [
    {
     "name": "stdout",
     "output_type": "stream",
     "text": [
      "Added materials to library from /home/jlball/arc-proliferation/arc2018/mat_lib.json\n",
      "Added material ['plasma', 'flibe', 'uf4', 'thf4', 'tungsten', 'lead', 'beryllium']\n"
     ]
    }
   ],
   "source": [
    "nmm.AddMaterialFromFile(main_folder_path + \"mat_lib.json\")\n",
    "blanket_material_ids = np.empty(4)\n",
    "\n",
    "def generate_materials(percent_fertile=0, Li6_enrichment=7.8, dopant_species='U'):\n",
    "    plasma = nmm.Material.from_library(\"plasma\").openmc_material\n",
    "\n",
    "    flibe = nmm.Material.from_library(\"flibe\", enrichment=Li6_enrichment)\n",
    "\n",
    "    ib_mult = nmm.Material.from_library(\"beryllium\").openmc_material\n",
    "    ib_mult.name = 'inboard_multiplier'\n",
    "\n",
    "    ob_mult = nmm.Material.from_library(\"beryllium\").openmc_material\n",
    "    ob_mult.name = 'outboard_multiplier'\n",
    "\n",
    "    ob_outer_vv = nmm.Material.from_library(\"Inconel-718\").openmc_material\n",
    "    ob_outer_vv.name = 'outboard_outer_vv'\n",
    "\n",
    "    ib_outer_vv = nmm.Material.from_library(\"Inconel-718\").openmc_material\n",
    "    ib_outer_vv.name = 'inboard_outer_vv'\n",
    "\n",
    "    vv = nmm.Material.from_library(\"tungsten\").openmc_material\n",
    "    vv.name = \"vv\"\n",
    "\n",
    "    if dopant_species == \"U\":\n",
    "        dopant = nmm.Material.from_library(\"uf4\")\n",
    "    elif dopant_species == \"Th\":\n",
    "        dopant = nmm.Material.from_library(\"thf4\")\n",
    "    else:\n",
    "        print(\"Error: Invalid dopant type specified\")\n",
    "        return\n",
    "\n",
    "    #Creating materials for all four FLiBe regions by mixing UF4 and FLiBe materials by volume\n",
    "    ib_tank = nmm.Material.from_mixture(name='inboard_tank', materials=[flibe, dopant], fracs=[1 - percent_fertile/100, percent_fertile/100], percent_type='vo').openmc_material\n",
    "    ob_tank = nmm.Material.from_mixture(name='outboard_tank', materials=[flibe, dopant], fracs=[1 - percent_fertile/100, percent_fertile/100], percent_type='vo').openmc_material\n",
    "\n",
    "    ib_cc = nmm.Material.from_mixture(name='inboard_cc', materials=[flibe, dopant], fracs=[1 - percent_fertile/100, percent_fertile/100], percent_type='vo').openmc_material\n",
    "    ob_cc = nmm.Material.from_mixture(name='outboard_cc', materials=[flibe, dopant], fracs=[1 - percent_fertile/100, percent_fertile/100], percent_type='vo').openmc_material\n",
    "\n",
    "    ib_tank.volume = volumes['inboard_tank']\n",
    "    ob_tank.volume = volumes['outboard_tank']\n",
    "    ib_cc.volume = volumes['inboard_cc']\n",
    "    ob_cc.volume = volumes['outboard_cc']\n",
    "\n",
    "    materials = openmc.Materials(\n",
    "        [\n",
    "            plasma,\n",
    "            ib_tank,\n",
    "            ob_tank,\n",
    "            ib_cc,\n",
    "            ob_cc,\n",
    "            ib_mult,\n",
    "            ob_mult,\n",
    "            ib_outer_vv,\n",
    "            ob_outer_vv,\n",
    "            vv\n",
    "        ]\n",
    "    )\n",
    "\n",
    "    blanket_material_ids = np.array([ib_tank.id, ob_tank.id, ib_cc.id, ob_cc.id])\n",
    "    print(blanket_material_ids)\n",
    "\n",
    "    return materials, blanket_material_ids\n"
   ]
  },
  {
   "cell_type": "markdown",
   "metadata": {},
   "source": [
    "Specify path to cross section file of desired library."
   ]
  },
  {
   "cell_type": "code",
   "execution_count": 27,
   "metadata": {},
   "outputs": [],
   "source": [
    "#Provide path to cross section data\n",
    "openmc.Materials.cross_sections = xs_data_path"
   ]
  },
  {
   "cell_type": "markdown",
   "metadata": {},
   "source": [
    "## Geometry ##"
   ]
  },
  {
   "cell_type": "markdown",
   "metadata": {},
   "source": [
    "The geometry is built in a separate file which uses the Paramak code to build a DAGMC model. Here it is imported and then a bounding region is provided."
   ]
  },
  {
   "cell_type": "code",
   "execution_count": 28,
   "metadata": {},
   "outputs": [
    {
     "name": "stderr",
     "output_type": "stream",
     "text": [
      "/home/jlball/miniconda3/envs/openmc_env/lib/python3.10/site-packages/openmc/mixin.py:67: IDWarning: Another Surface instance already exists with id=9999.\n",
      "  warn(msg, IDWarning)\n",
      "/home/jlball/miniconda3/envs/openmc_env/lib/python3.10/site-packages/openmc/mixin.py:67: IDWarning: Another Surface instance already exists with id=9991.\n",
      "  warn(msg, IDWarning)\n",
      "/home/jlball/miniconda3/envs/openmc_env/lib/python3.10/site-packages/openmc/mixin.py:67: IDWarning: Another Cell instance already exists with id=9999.\n",
      "  warn(msg, IDWarning)\n"
     ]
    }
   ],
   "source": [
    "dag_univ = openmc.DAGMCUniverse(main_folder_path + \"arc2018.h5m\")\n",
    "\n",
    "# creates an edge of universe boundary surface\n",
    "vac_surf = openmc.Sphere(r=10000, surface_id=9999, boundary_type=\"vacuum\")\n",
    "\n",
    "# adds reflective surface for the sector model at 0 degrees\n",
    "reflective_1 = openmc.Plane(\n",
    "    a=math.sin(0),\n",
    "    b=-math.cos(0),\n",
    "    c=0.0,\n",
    "    d=0.0,\n",
    "    surface_id=9991,\n",
    "    boundary_type=\"reflective\",\n",
    ")\n",
    "\n",
    "# specifies the region as below the universe boundary and inside the reflective surfaces\n",
    "region = -vac_surf & -reflective_1 \n",
    "\n",
    "# creates a cell from the region and fills the cell with the dagmc geometry\n",
    "containing_cell = openmc.Cell(cell_id=9999, region=region, fill=dag_univ)\n",
    "\n",
    "geometry = openmc.Geometry(root=[containing_cell])"
   ]
  },
  {
   "cell_type": "markdown",
   "metadata": {},
   "source": [
    "## Settings ##"
   ]
  },
  {
   "cell_type": "markdown",
   "metadata": {},
   "source": [
    "A simple line source geometry is defined."
   ]
  },
  {
   "cell_type": "code",
   "execution_count": 29,
   "metadata": {},
   "outputs": [],
   "source": [
    "# creates a simple isotropic neutron source in the center with 14MeV neutrons\n",
    "source = openmc.Source()\n",
    "# the distribution of radius is just a single value at the plasma major radius\n",
    "radius = openmc.stats.Discrete([330.], [1])\n",
    "# the distribution of source z values is just a single value\n",
    "z_values = openmc.stats.Discrete([0], [1])\n",
    "# the distribution of source azimuthal angles values is a uniform distribution between 0 and 0.5 Pi\n",
    "# these angles must be the same as the reflective angles\n",
    "angle = openmc.stats.Uniform(a=0., b=math.radians(180))\n",
    "# this makes the ring source using the three distributions and a radius\n",
    "source.space = openmc.stats.CylindricalIndependent(r=radius, phi=angle, z=z_values, origin=(0.0, 0.0, 0.0))\n",
    "# sets the direction to isotropic\n",
    "source.angle = openmc.stats.Isotropic()\n",
    "# sets the energy distribution to a Muir distribution neutrons\n",
    "source.energy = openmc.stats.Muir(e0=14080000.0, m_rat=5.0, kt=20000.0)\n",
    "\n",
    "# specifies the simulation computational intensity\n",
    "settings = openmc.Settings()\n",
    "settings.batches = 10\n",
    "settings.particles = particles_per_batch\n",
    "settings.inactive = 0\n",
    "settings.run_mode = \"fixed source\"\n",
    "settings.source = source"
   ]
  },
  {
   "cell_type": "markdown",
   "metadata": {},
   "source": [
    "## Tallies ##"
   ]
  },
  {
   "cell_type": "markdown",
   "metadata": {},
   "source": [
    "Definition of tallies used."
   ]
  },
  {
   "cell_type": "code",
   "execution_count": 30,
   "metadata": {},
   "outputs": [],
   "source": [
    "def generate_tallies(dopant):\n",
    "    # Tritium Breeding Tally:\n",
    "    trit_tally = openmc.Tally(name='tbr')\n",
    "    #trit_tally.filters = [blanket_filter]\n",
    "    trit_tally.scores = [\"(n,Xt)\"]\n",
    "\n",
    "    # Tritium Breeding Tally:\n",
    "    Be_tally = openmc.Tally(name='Be')\n",
    "    #Be_tally.filters = [blanket_filter]\n",
    "    Be_tally.scores = [\"(n,2n)\"]\n",
    "\n",
    "    if dopant == \"U\":\n",
    "        # Plutonium Breeding Tally:\n",
    "        breed_tally = openmc.Tally(name='pbr')\n",
    "        breed_tally.nuclides = ['U238']\n",
    "        #plut_tally.filters = [blanket_filter]\n",
    "        breed_tally.scores = [\"absorption\"]\n",
    "\n",
    "    elif dopant == \"Th\":\n",
    "        # Uranium Breeding Tally:\n",
    "        breed_tally = openmc.Tally(name='ubr')\n",
    "        breed_tally.nuclides = ['Th232']\n",
    "        #plut_tally.filters = [blanket_filter]\n",
    "        breed_tally.scores = [\"absorption\"]\n",
    "\n",
    "    #Fission tally\n",
    "    fis_tally = openmc.Tally(name='fis')\n",
    "    #fis_tally.filters = [blanket_filter]\n",
    "    fis_tally.scores = ['fission']\n",
    "\n",
    "    tallies = openmc.Tallies([trit_tally, breed_tally, Be_tally, fis_tally])\n",
    "    tallies.export_to_xml()\n",
    "\n",
    "    return tallies"
   ]
  },
  {
   "cell_type": "markdown",
   "metadata": {},
   "source": [
    "## Depletion Run "
   ]
  },
  {
   "cell_type": "markdown",
   "metadata": {},
   "source": [
    "Setting up for the scan of depletion runs:"
   ]
  },
  {
   "cell_type": "code",
   "execution_count": 31,
   "metadata": {},
   "outputs": [],
   "source": [
    "# this tells openmc the decay paths between isotopes including proabilities of different routes and half lives\n",
    "chain = openmc.deplete.Chain.from_xml(main_folder_path + chain_file)\n",
    "\n",
    "# Set depletion calculation parameters:\n",
    "number_of_steps = 5\n",
    "total_time = 1 * 365 * 24 #hours\n",
    "fusion_power = 525 # MW\n",
    "\n",
    "energy_per_fusion = 2.8182e-18 # MJ (comes from converting 17.59 MeV to MJ)\n",
    "\n",
    "time_steps = [total_time*60*60 / number_of_steps] * number_of_steps\n",
    "source_rates = [fusion_power / energy_per_fusion] * number_of_steps\n",
    "\n",
    "tbrs, tbrs_std = np.empty(len(percents_fertile)), np.empty(len(percents_fertile))\n",
    "\n",
    "times_to_sq = np.empty(len(percents_fertile))\n",
    "pu_purities = np.empty(len(percents_fertile))"
   ]
  },
  {
   "cell_type": "markdown",
   "metadata": {},
   "source": [
    "Helper functions for extracting data during the depletion scan."
   ]
  },
  {
   "cell_type": "code",
   "execution_count": 32,
   "metadata": {},
   "outputs": [],
   "source": [
    "# Only works for simulations with uniform timesteps\n",
    "def compute_times():\n",
    "    times = np.empty(number_of_steps + 1)\n",
    "    for i in range(0, number_of_steps + 1):\n",
    "        times[i] = i * time_steps[0] # seconds\n",
    "\n",
    "    return times\n",
    "\n",
    "def extract_tbr(return_arrays=False):\n",
    "    num_time_steps = len(time_steps) + 1\n",
    "\n",
    "    tbr_vals, tbr_std = np.empty(num_time_steps), np.empty(num_time_steps)\n",
    "    for i in range(0, num_time_steps):\n",
    "        sp = openmc.StatePoint(f'openmc_simulation_n{i}.h5')\n",
    "        \n",
    "        #Extract TBR values and std dev at each step in the simulation\n",
    "        tbr_tally = sp.get_tally(name='tbr')\n",
    "        tbr_vals[i] = tbr_tally.mean\n",
    "        tbr_std[i] = tbr_tally.std_dev\n",
    "\n",
    "    if return_arrays:\n",
    "        return tbr_vals, tbr_std\n",
    "    else:\n",
    "        return np.mean(tbr_vals), np.mean(tbr_std)\n",
    "\n",
    "#Converts number of atoms to kg of that isotope\n",
    "def convert_to_kg(num_atoms, isotope):\n",
    "    moles = num_atoms / Avogadro #divide by avogadro number to get in moles\n",
    "    mass = (moles * data.atomic_mass(isotope))*0.001 #in kg (atmoic mass is molar mass in units of g/mol)\n",
    "    return mass\n",
    "\n",
    "def get_atoms(isotope, results):\n",
    "    atoms = 0\n",
    "    for mat in range(0, len(blanket_material_ids)):\n",
    "        _, result = results.get_atoms(mat, isotope)\n",
    "        atoms += result\n",
    "    \n",
    "    return atoms\n",
    "\n",
    "#Retrieve the mass of a particular isotope in the blanket\n",
    "def get_mass(isotope, results):\n",
    "    atoms = get_atoms(isotope, results)\n",
    "    mass = convert_to_kg(atoms, isotope)\n",
    "    return mass\n",
    "\n",
    "def extract_time_to_sq(times, results, dopant):\n",
    "    if dopant == \"U\":\n",
    "        masses = get_mass('Pu239', results)\n",
    "    elif dopant == \"Th\":\n",
    "        masses = get_mass('U233', results)\n",
    "    else:\n",
    "        raise ValueError(dopant + \" not a valid dopant\")\n",
    "\n",
    "    fit = Polynomial.fit(times, masses, 1)\n",
    "    fit_masses = fit(times)\n",
    "\n",
    "    sig_quantity = 8 # kg, same for both U233 and Pu239\n",
    "    time_to_sig_quantity = (fit - sig_quantity).roots()[0] \n",
    "    return time_to_sig_quantity\n",
    "\n",
    "def extract_isotopic_purity(results):\n",
    "    pu_isotopes = ['Pu238', 'Pu239', 'Pu240', 'Pu241']\n",
    "    total_pu_atoms = 0\n",
    "    for iso in pu_isotopes:\n",
    "        atoms = get_atoms(iso, results)[-1]\n",
    "        total_pu_atoms += atoms\n",
    "\n",
    "    atoms_239 = get_atoms('Pu239', results)[-1] \n",
    "    return atoms_239/total_pu_atoms"
   ]
  },
  {
   "cell_type": "markdown",
   "metadata": {},
   "source": [
    "Performing the scan:"
   ]
  },
  {
   "cell_type": "code",
   "execution_count": 34,
   "metadata": {},
   "outputs": [
    {
     "name": "stdout",
     "output_type": "stream",
     "text": [
      "~~~~~~ DOPANT SPECIES: U ~~~~~~\n",
      "[26 32 38 44]\n",
      "###### BEGIN DEPLETION CALCULATION FOR 1 PERCENT FERTILE BLANKET ######\n",
      "                                %%%%%%%%%%%%%%%\n",
      "                           %%%%%%%%%%%%%%%%%%%%%%%%\n",
      "                        %%%%%%%%%%%%%%%%%%%%%%%%%%%%%%\n",
      "                      %%%%%%%%%%%%%%%%%%%%%%%%%%%%%%%%%%\n",
      "                    %%%%%%%%%%%%%%%%%%%%%%%%%%%%%%%%%%%%%%\n",
      "                   %%%%%%%%%%%%%%%%%%%%%%%%%%%%%%%%%%%%%%%%\n",
      "                                    %%%%%%%%%%%%%%%%%%%%%%%%\n",
      "                                     %%%%%%%%%%%%%%%%%%%%%%%%\n",
      "                 ###############      %%%%%%%%%%%%%%%%%%%%%%%%\n",
      "                ##################     %%%%%%%%%%%%%%%%%%%%%%%\n",
      "                ###################     %%%%%%%%%%%%%%%%%%%%%%%\n",
      "                ####################     %%%%%%%%%%%%%%%%%%%%%%\n",
      "                #####################     %%%%%%%%%%%%%%%%%%%%%\n",
      "                ######################     %%%%%%%%%%%%%%%%%%%%\n",
      "                #######################     %%%%%%%%%%%%%%%%%%\n",
      "                 #######################     %%%%%%%%%%%%%%%%%\n",
      "                 ######################     %%%%%%%%%%%%%%%%%\n",
      "                  ####################     %%%%%%%%%%%%%%%%%\n",
      "                    #################     %%%%%%%%%%%%%%%%%\n",
      "                     ###############     %%%%%%%%%%%%%%%%\n",
      "                       ############     %%%%%%%%%%%%%%%\n",
      "                          ########     %%%%%%%%%%%%%%\n",
      "                                      %%%%%%%%%%%\n",
      "\n",
      "                 | The OpenMC Monte Carlo Code\n",
      "       Copyright | 2011-2022 MIT, UChicago Argonne LLC, and contributors\n",
      "         License | https://docs.openmc.org/en/latest/license.html\n",
      "         Version | 0.13.0\n",
      "        Git SHA1 | d9478c1304a37590453eabe3a99e97abb7f92013\n",
      "       Date/Time | 2022-08-23 21:43:55\n",
      "   MPI Processes | 1\n",
      "  OpenMP Threads | 8\n",
      "\n",
      " Reading settings XML file...\n",
      " Reading cross sections XML file...\n",
      " Reading materials XML file...\n",
      " Reading geometry XML file...\n",
      "Set overlap thickness = 0\n",
      "Set numerical precision = 0.001\n",
      "Loading file /home/jlball/arc-proliferation/arc2018/arc2018.h5m\n",
      "Initializing the GeomQueryTool...\n",
      "Using faceting tolerance: 0\n",
      "Building acceleration data structures...\n",
      "Implicit Complement assumed to be Vacuum\n",
      " Reading H1 from /home/jlball/xs_data/endfb80_hdf5/H1.h5\n",
      " Reading H2 from /home/jlball/xs_data/endfb80_hdf5/H2.h5\n",
      " Reading Be9 from /home/jlball/xs_data/endfb80_hdf5/Be9.h5\n",
      " Reading B10 from /home/jlball/xs_data/endfb80_hdf5/B10.h5\n",
      " Reading B11 from /home/jlball/xs_data/endfb80_hdf5/B11.h5\n",
      " Reading Mo92 from /home/jlball/xs_data/endfb80_hdf5/Mo92.h5\n",
      " Reading Mo94 from /home/jlball/xs_data/endfb80_hdf5/Mo94.h5\n",
      " Reading Mo95 from /home/jlball/xs_data/endfb80_hdf5/Mo95.h5\n",
      " Reading Mo96 from /home/jlball/xs_data/endfb80_hdf5/Mo96.h5\n",
      " Reading Mo97 from /home/jlball/xs_data/endfb80_hdf5/Mo97.h5\n",
      " Reading Mo98 from /home/jlball/xs_data/endfb80_hdf5/Mo98.h5\n",
      " Reading Mo100 from /home/jlball/xs_data/endfb80_hdf5/Mo100.h5\n",
      " Reading Al27 from /home/jlball/xs_data/endfb80_hdf5/Al27.h5\n",
      " Reading C12 from /home/jlball/xs_data/endfb80_hdf5/C12.h5\n",
      " Reading C13 from /home/jlball/xs_data/endfb80_hdf5/C13.h5\n",
      " Reading Co59 from /home/jlball/xs_data/endfb80_hdf5/Co59.h5\n",
      " Reading Cr50 from /home/jlball/xs_data/endfb80_hdf5/Cr50.h5\n",
      " Reading Cr52 from /home/jlball/xs_data/endfb80_hdf5/Cr52.h5\n",
      " Reading Cr53 from /home/jlball/xs_data/endfb80_hdf5/Cr53.h5\n",
      " Reading Cr54 from /home/jlball/xs_data/endfb80_hdf5/Cr54.h5\n",
      " Reading Cu63 from /home/jlball/xs_data/endfb80_hdf5/Cu63.h5\n",
      " Reading Cu65 from /home/jlball/xs_data/endfb80_hdf5/Cu65.h5\n",
      " Reading Fe54 from /home/jlball/xs_data/endfb80_hdf5/Fe54.h5\n",
      " Reading Fe56 from /home/jlball/xs_data/endfb80_hdf5/Fe56.h5\n",
      " Reading Fe57 from /home/jlball/xs_data/endfb80_hdf5/Fe57.h5\n",
      " Reading Fe58 from /home/jlball/xs_data/endfb80_hdf5/Fe58.h5\n",
      " Reading Mn55 from /home/jlball/xs_data/endfb80_hdf5/Mn55.h5\n",
      " Reading Nb93 from /home/jlball/xs_data/endfb80_hdf5/Nb93.h5\n",
      " Reading Ni58 from /home/jlball/xs_data/endfb80_hdf5/Ni58.h5\n",
      " Reading Ni60 from /home/jlball/xs_data/endfb80_hdf5/Ni60.h5\n",
      " Reading Ni61 from /home/jlball/xs_data/endfb80_hdf5/Ni61.h5\n",
      " Reading Ni62 from /home/jlball/xs_data/endfb80_hdf5/Ni62.h5\n",
      " Reading Ni64 from /home/jlball/xs_data/endfb80_hdf5/Ni64.h5\n",
      " Reading P31 from /home/jlball/xs_data/endfb80_hdf5/P31.h5\n",
      " Reading S32 from /home/jlball/xs_data/endfb80_hdf5/S32.h5\n",
      " Reading S33 from /home/jlball/xs_data/endfb80_hdf5/S33.h5\n",
      " Reading S34 from /home/jlball/xs_data/endfb80_hdf5/S34.h5\n",
      " Reading S36 from /home/jlball/xs_data/endfb80_hdf5/S36.h5\n",
      " Reading Si28 from /home/jlball/xs_data/endfb80_hdf5/Si28.h5\n",
      " Reading Si29 from /home/jlball/xs_data/endfb80_hdf5/Si29.h5\n",
      " Reading Si30 from /home/jlball/xs_data/endfb80_hdf5/Si30.h5\n",
      " Reading Ti46 from /home/jlball/xs_data/endfb80_hdf5/Ti46.h5\n",
      " Reading Ti47 from /home/jlball/xs_data/endfb80_hdf5/Ti47.h5\n",
      " Reading Ti48 from /home/jlball/xs_data/endfb80_hdf5/Ti48.h5\n",
      " Reading Ti49 from /home/jlball/xs_data/endfb80_hdf5/Ti49.h5\n",
      " Reading Ti50 from /home/jlball/xs_data/endfb80_hdf5/Ti50.h5\n",
      " Reading W180 from /home/jlball/xs_data/endfb80_hdf5/W180.h5\n",
      " Reading W182 from /home/jlball/xs_data/endfb80_hdf5/W182.h5\n",
      " Reading W183 from /home/jlball/xs_data/endfb80_hdf5/W183.h5\n",
      " Reading W184 from /home/jlball/xs_data/endfb80_hdf5/W184.h5\n",
      " Reading W186 from /home/jlball/xs_data/endfb80_hdf5/W186.h5\n",
      " Reading U234 from /home/jlball/xs_data/endfb80_hdf5/U234.h5\n",
      " Reading U235 from /home/jlball/xs_data/endfb80_hdf5/U235.h5\n",
      " Reading U238 from /home/jlball/xs_data/endfb80_hdf5/U238.h5\n",
      " Reading F19 from /home/jlball/xs_data/endfb80_hdf5/F19.h5\n",
      " Reading Li6 from /home/jlball/xs_data/endfb80_hdf5/Li6.h5\n",
      " Reading Li7 from /home/jlball/xs_data/endfb80_hdf5/Li7.h5\n",
      " Minimum neutron data temperature: 0 K\n",
      " Maximum neutron data temperature: 1.7976931348623157e+308 K\n",
      " Reading tallies XML file...\n",
      " Preparing distributed cell instances...\n",
      " Reading plot XML file...\n",
      " Writing summary.h5 file...\n"
     ]
    },
    {
     "ename": "KeyboardInterrupt",
     "evalue": "",
     "output_type": "error",
     "traceback": [
      "\u001b[0;31m---------------------------------------------------------------------------\u001b[0m",
      "\u001b[0;31mKeyboardInterrupt\u001b[0m                         Traceback (most recent call last)",
      "\u001b[1;32m/home/jlball/arc-proliferation/arc2018/depletion_scan/arc2018_depletion_scan.ipynb Cell 27\u001b[0m in \u001b[0;36m<cell line: 1>\u001b[0;34m()\u001b[0m\n\u001b[1;32m     <a href='vscode-notebook-cell://wsl%2Bubuntu/home/jlball/arc-proliferation/arc2018/depletion_scan/arc2018_depletion_scan.ipynb#X35sdnNjb2RlLXJlbW90ZQ%3D%3D?line=18'>19</a>\u001b[0m integrator \u001b[39m=\u001b[39m openmc\u001b[39m.\u001b[39mdeplete\u001b[39m.\u001b[39mPredictorIntegrator(\n\u001b[1;32m     <a href='vscode-notebook-cell://wsl%2Bubuntu/home/jlball/arc-proliferation/arc2018/depletion_scan/arc2018_depletion_scan.ipynb#X35sdnNjb2RlLXJlbW90ZQ%3D%3D?line=19'>20</a>\u001b[0m     operator\u001b[39m=\u001b[39moperator, timesteps\u001b[39m=\u001b[39mtime_steps, source_rates\u001b[39m=\u001b[39msource_rates, \n\u001b[1;32m     <a href='vscode-notebook-cell://wsl%2Bubuntu/home/jlball/arc-proliferation/arc2018/depletion_scan/arc2018_depletion_scan.ipynb#X35sdnNjb2RlLXJlbW90ZQ%3D%3D?line=20'>21</a>\u001b[0m )\n\u001b[1;32m     <a href='vscode-notebook-cell://wsl%2Bubuntu/home/jlball/arc-proliferation/arc2018/depletion_scan/arc2018_depletion_scan.ipynb#X35sdnNjb2RlLXJlbW90ZQ%3D%3D?line=22'>23</a>\u001b[0m \u001b[39mprint\u001b[39m(\u001b[39m\"\u001b[39m\u001b[39m###### BEGIN DEPLETION CALCULATION FOR\u001b[39m\u001b[39m\"\u001b[39m, percent_fertile, \u001b[39m\"\u001b[39m\u001b[39mPERCENT FERTILE BLANKET ######\u001b[39m\u001b[39m\"\u001b[39m)\n\u001b[0;32m---> <a href='vscode-notebook-cell://wsl%2Bubuntu/home/jlball/arc-proliferation/arc2018/depletion_scan/arc2018_depletion_scan.ipynb#X35sdnNjb2RlLXJlbW90ZQ%3D%3D?line=23'>24</a>\u001b[0m integrator\u001b[39m.\u001b[39;49mintegrate()\n\u001b[1;32m     <a href='vscode-notebook-cell://wsl%2Bubuntu/home/jlball/arc-proliferation/arc2018/depletion_scan/arc2018_depletion_scan.ipynb#X35sdnNjb2RlLXJlbW90ZQ%3D%3D?line=25'>26</a>\u001b[0m \u001b[39mprint\u001b[39m(\u001b[39m\"\u001b[39m\u001b[39m###### EXTRACT RESULTS ######\u001b[39m\u001b[39m\"\u001b[39m)\n\u001b[1;32m     <a href='vscode-notebook-cell://wsl%2Bubuntu/home/jlball/arc-proliferation/arc2018/depletion_scan/arc2018_depletion_scan.ipynb#X35sdnNjb2RlLXJlbW90ZQ%3D%3D?line=26'>27</a>\u001b[0m tbr, tbr_std \u001b[39m=\u001b[39m extract_tbr()\n",
      "File \u001b[0;32m~/miniconda3/envs/openmc_env/lib/python3.10/site-packages/openmc/deplete/abc.py:866\u001b[0m, in \u001b[0;36mIntegrator.integrate\u001b[0;34m(self, final_step)\u001b[0m\n\u001b[1;32m    854\u001b[0m \u001b[39mdef\u001b[39;00m \u001b[39mintegrate\u001b[39m(\u001b[39mself\u001b[39m, final_step\u001b[39m=\u001b[39m\u001b[39mTrue\u001b[39;00m):\n\u001b[1;32m    855\u001b[0m     \u001b[39m\"\"\"Perform the entire depletion process across all steps\u001b[39;00m\n\u001b[1;32m    856\u001b[0m \n\u001b[1;32m    857\u001b[0m \u001b[39m    Parameters\u001b[39;00m\n\u001b[0;32m   (...)\u001b[0m\n\u001b[1;32m    864\u001b[0m \n\u001b[1;32m    865\u001b[0m \u001b[39m    \"\"\"\u001b[39;00m\n\u001b[0;32m--> 866\u001b[0m     \u001b[39mwith\u001b[39;00m \u001b[39mself\u001b[39m\u001b[39m.\u001b[39moperator \u001b[39mas\u001b[39;00m conc:\n\u001b[1;32m    867\u001b[0m         t, \u001b[39mself\u001b[39m\u001b[39m.\u001b[39m_i_res \u001b[39m=\u001b[39m \u001b[39mself\u001b[39m\u001b[39m.\u001b[39m_get_start_data()\n\u001b[1;32m    869\u001b[0m         \u001b[39mfor\u001b[39;00m i, (dt, source_rate) \u001b[39min\u001b[39;00m \u001b[39menumerate\u001b[39m(\u001b[39mself\u001b[39m):\n\u001b[1;32m    870\u001b[0m             \u001b[39m# Solve transport equation (or obtain result from restart)\u001b[39;00m\n",
      "File \u001b[0;32m~/miniconda3/envs/openmc_env/lib/python3.10/site-packages/openmc/deplete/abc.py:143\u001b[0m, in \u001b[0;36mTransportOperator.__enter__\u001b[0;34m(self)\u001b[0m\n\u001b[1;32m    140\u001b[0m \u001b[39mself\u001b[39m\u001b[39m.\u001b[39moutput_dir\u001b[39m.\u001b[39mmkdir(exist_ok\u001b[39m=\u001b[39m\u001b[39mTrue\u001b[39;00m)\n\u001b[1;32m    141\u001b[0m os\u001b[39m.\u001b[39mchdir(\u001b[39mself\u001b[39m\u001b[39m.\u001b[39moutput_dir)\n\u001b[0;32m--> 143\u001b[0m \u001b[39mreturn\u001b[39;00m \u001b[39mself\u001b[39;49m\u001b[39m.\u001b[39;49minitial_condition()\n",
      "File \u001b[0;32m~/miniconda3/envs/openmc_env/lib/python3.10/site-packages/openmc/deplete/operator.py:588\u001b[0m, in \u001b[0;36mOperator.initial_condition\u001b[0;34m(self)\u001b[0m\n\u001b[1;32m    586\u001b[0m comm\u001b[39m.\u001b[39mbarrier()\n\u001b[1;32m    587\u001b[0m \u001b[39mif\u001b[39;00m \u001b[39mnot\u001b[39;00m openmc\u001b[39m.\u001b[39mlib\u001b[39m.\u001b[39mis_initialized:\n\u001b[0;32m--> 588\u001b[0m     openmc\u001b[39m.\u001b[39;49mlib\u001b[39m.\u001b[39;49minit(intracomm\u001b[39m=\u001b[39;49mcomm)\n\u001b[1;32m    590\u001b[0m \u001b[39m# Generate tallies in memory\u001b[39;00m\n\u001b[1;32m    591\u001b[0m materials \u001b[39m=\u001b[39m [openmc\u001b[39m.\u001b[39mlib\u001b[39m.\u001b[39mmaterials[\u001b[39mint\u001b[39m(i)]\n\u001b[1;32m    592\u001b[0m              \u001b[39mfor\u001b[39;00m i \u001b[39min\u001b[39;00m \u001b[39mself\u001b[39m\u001b[39m.\u001b[39mburnable_mats]\n",
      "File \u001b[0;32m~/miniconda3/envs/openmc_env/lib/python3.10/site-packages/openmc/lib/core.py:285\u001b[0m, in \u001b[0;36minit\u001b[0;34m(args, intracomm, output)\u001b[0m\n\u001b[1;32m    282\u001b[0m         intracomm \u001b[39m=\u001b[39m c_void_p(address)\n\u001b[1;32m    284\u001b[0m \u001b[39mwith\u001b[39;00m quiet_dll(output):\n\u001b[0;32m--> 285\u001b[0m     _dll\u001b[39m.\u001b[39;49mopenmc_init(argc, argv, intracomm)\n\u001b[1;32m    286\u001b[0m openmc\u001b[39m.\u001b[39mlib\u001b[39m.\u001b[39mis_initialized \u001b[39m=\u001b[39m \u001b[39mTrue\u001b[39;00m\n",
      "File \u001b[0;32m~/miniconda3/envs/openmc_env/lib/python3.10/site-packages/openmc/lib/error.py:8\u001b[0m, in \u001b[0;36m_error_handler\u001b[0;34m(err, func, args)\u001b[0m\n\u001b[1;32m      4\u001b[0m \u001b[39mimport\u001b[39;00m \u001b[39mopenmc\u001b[39;00m\u001b[39m.\u001b[39;00m\u001b[39mexceptions\u001b[39;00m \u001b[39mas\u001b[39;00m \u001b[39mexc\u001b[39;00m\n\u001b[1;32m      5\u001b[0m \u001b[39mfrom\u001b[39;00m \u001b[39m.\u001b[39;00m \u001b[39mimport\u001b[39;00m _dll\n\u001b[0;32m----> 8\u001b[0m \u001b[39mdef\u001b[39;00m \u001b[39m_error_handler\u001b[39m(err, func, args):\n\u001b[1;32m      9\u001b[0m     \u001b[39m\"\"\"Raise exception according to error code.\"\"\"\u001b[39;00m\n\u001b[1;32m     11\u001b[0m     \u001b[39m# Get error code corresponding to global constant.\u001b[39;00m\n",
      "\u001b[0;31mKeyboardInterrupt\u001b[0m: "
     ]
    }
   ],
   "source": [
    "for dopant in dopant_species:\n",
    "    print(\"~~~~~~ DOPANT SPECIES: \" + dopant + \" ~~~~~~\")\n",
    "    for i, percent_fertile in enumerate(percents_fertile):\n",
    "        # Create materials object with desired pertile percent:\n",
    "        materials, blanket_material_ids = generate_materials(percent_fertile=percent_fertile, Li6_enrichment=Li6_enrichment, dopant_species=dopant)\n",
    "\n",
    "        # Create Tallies object which include tallies for corresponding blanket dopant:\n",
    "        tallies = generate_tallies(dopant)\n",
    "\n",
    "        #Create OpenMC model object using this new materials object:\n",
    "        model = openmc.Model(\n",
    "            materials=materials, geometry=geometry, settings=settings, tallies=tallies\n",
    "        )\n",
    "\n",
    "        # Create transport operator using the above OpenMC model\n",
    "        operator = openmc.deplete.Operator(model, main_folder_path + chain_file, normalization_mode='source-rate')\n",
    "\n",
    "        # Create integrator which will perform the calculation using a particular algorhithm\n",
    "        integrator = openmc.deplete.PredictorIntegrator(\n",
    "            operator=operator, timesteps=time_steps, source_rates=source_rates, \n",
    "        )\n",
    "\n",
    "        print(\"###### BEGIN DEPLETION CALCULATION FOR\", percent_fertile, \"PERCENT FERTILE BLANKET ######\")\n",
    "        integrator.integrate()\n",
    "\n",
    "        print(\"###### EXTRACT RESULTS ######\")\n",
    "        tbr, tbr_std = extract_tbr()\n",
    "        tbrs[i] = tbr\n",
    "        tbrs_std[i] = tbr_std\n",
    "\n",
    "        #Extract time to significant quantity:\n",
    "        results = openmc.deplete.ResultsList.from_hdf5(\"depletion_results.h5\")\n",
    "        times = compute_times()\n",
    "\n",
    "        times_to_sq[i] = extract_time_to_sq(times, results, dopant)\n",
    "        pu_purities[i] = extract_isotopic_purity(results)\n",
    "\n",
    "    collected_data = np.array([percents_fertile, times_to_sq, tbrs, tbrs_std])\n",
    "    np.save(dopant + \"_depletion_data\", collected_data)"
   ]
  },
  {
   "cell_type": "code",
   "execution_count": null,
   "metadata": {},
   "outputs": [],
   "source": [
    "plot_dpi = 200\n",
    "fig, ax = plt.subplots(dpi=plot_dpi)\n",
    "ax.errorbar(percents_fertile, tbrs, yerr=tbrs_std, fmt='.', ms=10, capsize=4)\n",
    "\n",
    "ax.set(title='TBR vs. Percent Fertile Blanket Dopant in ARC-like Reactor', xlabel=\"percent fertile dopant\", ylabel='TBR', ylim=[0, 1.3])\n",
    "ax.grid()\n",
    "\n",
    "plt.gcf().set_size_inches(8, 6)\n",
    "plt.show()"
   ]
  },
  {
   "cell_type": "code",
   "execution_count": null,
   "metadata": {},
   "outputs": [],
   "source": [
    "fig, ax = plt.subplots(dpi=plot_dpi)\n",
    "\n",
    "ax.scatter(percents_fertile, times_to_sq/(60*60))\n",
    "\n",
    "ax.set(title=\"Time to 1 SQ vs. Fertile Percent\", xlabel=\"percent fertile\", ylabel='time (hours)')\n",
    "ax.grid()\n",
    "ax.set_yscale('log')\n",
    "\n",
    "plt.gcf().set_size_inches(8, 6)\n",
    "plt.show()"
   ]
  },
  {
   "cell_type": "code",
   "execution_count": null,
   "metadata": {},
   "outputs": [],
   "source": [
    "fig, ax = plt.subplots(dpi=plot_dpi)\n",
    "\n",
    "ax.scatter(percents_fertile, pu_purities*100)\n",
    "\n",
    "ax.set(title=\"Isotopic Purity of Pu239 vs. Fertile Percent\", xlabel=\"percent fertile\", ylabel='Percent Pu239')\n",
    "ax.grid()\n",
    "\n",
    "plt.gcf().set_size_inches(8, 6)\n",
    "plt.show()"
   ]
  }
 ],
 "metadata": {
  "kernelspec": {
   "display_name": "Python 3.10.5 ('openmc_env': conda)",
   "language": "python",
   "name": "python3"
  },
  "language_info": {
   "codemirror_mode": {
    "name": "ipython",
    "version": 3
   },
   "file_extension": ".py",
   "mimetype": "text/x-python",
   "name": "python",
   "nbconvert_exporter": "python",
   "pygments_lexer": "ipython3",
   "version": "3.10.5"
  },
  "orig_nbformat": 4,
  "vscode": {
   "interpreter": {
    "hash": "45e764e0f938d6b30040af0e2374672beafce835508174d490be8d126b170f5b"
   }
  }
 },
 "nbformat": 4,
 "nbformat_minor": 2
}
