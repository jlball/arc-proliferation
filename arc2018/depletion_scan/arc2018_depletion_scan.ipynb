{
 "cells": [
  {
   "cell_type": "markdown",
   "metadata": {},
   "source": [
    "# ARC 2018 Depletion Model"
   ]
  },
  {
   "cell_type": "code",
   "execution_count": 1,
   "metadata": {},
   "outputs": [],
   "source": [
    "import openmc\n",
    "import openmc.deplete\n",
    "import openmc.data as data\n",
    "import neutronics_material_maker as nmm\n",
    "import math\n",
    "import json\n",
    "import numpy as np\n",
    "import matplotlib.pyplot as plt\n",
    "from scipy.constants import Avogadro\n",
    "from numpy.polynomial.polynomial import Polynomial"
   ]
  },
  {
   "cell_type": "code",
   "execution_count": 2,
   "metadata": {},
   "outputs": [],
   "source": [
    "percent_fertile = 0.25\n",
    "main_folder_path = \"/home/jlball/arc-proliferation/arc2018/\""
   ]
  },
  {
   "cell_type": "markdown",
   "metadata": {},
   "source": [
    "## Materials ##"
   ]
  },
  {
   "cell_type": "markdown",
   "metadata": {},
   "source": [
    "All material management is done using `neutronics_material_maker`. The name of each material must correspond to the name of the region of the DAGMC model to which it should be assigned."
   ]
  },
  {
   "cell_type": "code",
   "execution_count": 3,
   "metadata": {},
   "outputs": [],
   "source": [
    "# Import and read JSON file containing volume information computed by paramak\n",
    "file = open(main_folder_path + 'arc2018_volumes.json',)\n",
    "volumes = json.load(file)\n",
    "file.close()"
   ]
  },
  {
   "cell_type": "code",
   "execution_count": 4,
   "metadata": {},
   "outputs": [
    {
     "name": "stdout",
     "output_type": "stream",
     "text": [
      "Added materials to library from /home/jlball/arc-proliferation/arc2018/mat_lib.json\n",
      "Added material ['plasma', 'flibe', 'uf4', 'tungsten', 'lead', 'beryllium']\n"
     ]
    }
   ],
   "source": [
    "nmm.AddMaterialFromFile(main_folder_path + \"mat_lib.json\")\n",
    "blanket_material_ids = np.empty(4)\n",
    "\n",
    "def generate_materials(percent_fertile=0, Li6_enrichment=7.8):\n",
    "    plasma = nmm.Material.from_library(\"plasma\").openmc_material\n",
    "\n",
    "    flibe = nmm.Material.from_library(\"flibe\", enrichment=Li6_enrichment)\n",
    "    uf4 = nmm.Material.from_library(\"uf4\")\n",
    "\n",
    "    #Creating materials for all four FLiBe regions by mixing UF4 and FLiBe materials by volume\n",
    "    ib_tank = nmm.Material.from_mixture(name='inboard_tank', materials=[flibe, uf4], fracs=[1 - percent_fertile/100, percent_fertile/100], percent_type='vo').openmc_material\n",
    "    ob_tank = nmm.Material.from_mixture(name='outboard_tank', materials=[flibe, uf4], fracs=[1 - percent_fertile/100, percent_fertile/100], percent_type='vo').openmc_material\n",
    "\n",
    "    ib_cc = nmm.Material.from_mixture(name='inboard_cc', materials=[flibe, uf4], fracs=[1 - percent_fertile/100, percent_fertile/100], percent_type='vo').openmc_material\n",
    "    ob_cc = nmm.Material.from_mixture(name='outboard_cc', materials=[flibe, uf4], fracs=[1 - percent_fertile/100, percent_fertile/100], percent_type='vo').openmc_material\n",
    "\n",
    "    ib_tank.volume = volumes['inboard_tank']\n",
    "    ob_tank.volume = volumes['outboard_tank']\n",
    "    ib_cc.volume = volumes['inboard_cc']\n",
    "    ob_cc.volume = volumes['outboard_cc']\n",
    "\n",
    "    ib_mult = nmm.Material.from_library(\"beryllium\").openmc_material\n",
    "    ib_mult.name = 'inboard_multiplier'\n",
    "\n",
    "    ob_mult = nmm.Material.from_library(\"beryllium\").openmc_material\n",
    "    ob_mult.name = 'outboard_multiplier'\n",
    "\n",
    "    ob_outer_vv = nmm.Material.from_library(\"Inconel-718\").openmc_material\n",
    "    ob_outer_vv.name = 'outboard_outer_vv'\n",
    "\n",
    "    ib_outer_vv = nmm.Material.from_library(\"Inconel-718\").openmc_material\n",
    "    ib_outer_vv.name = 'inboard_outer_vv'\n",
    "\n",
    "    vv = nmm.Material.from_library(\"tungsten\").openmc_material\n",
    "    vv.name = \"vv\"\n",
    "\n",
    "    materials = openmc.Materials(\n",
    "        [\n",
    "            plasma,\n",
    "            ib_tank,\n",
    "            ob_tank,\n",
    "            ib_cc,\n",
    "            ob_cc,\n",
    "            ib_mult,\n",
    "            ob_mult,\n",
    "            ib_outer_vv,\n",
    "            ob_outer_vv,\n",
    "            vv\n",
    "        ]\n",
    "    )\n",
    "\n",
    "    blanket_material_ids = np.array([ib_tank.id, ob_tank.id, ib_cc.id, ob_cc.id])\n",
    "    print(blanket_material_ids)\n",
    "\n",
    "    return materials, blanket_material_ids\n"
   ]
  },
  {
   "cell_type": "markdown",
   "metadata": {},
   "source": [
    "Specify path to cross section file of desired library."
   ]
  },
  {
   "cell_type": "code",
   "execution_count": 5,
   "metadata": {},
   "outputs": [],
   "source": [
    "#Provide path to cross section data\n",
    "openmc.Materials.cross_sections = \"/home/jlball/xs_data/endfb80_hdf5/cross_sections.xml\""
   ]
  },
  {
   "cell_type": "markdown",
   "metadata": {},
   "source": [
    "## Geometry ##"
   ]
  },
  {
   "cell_type": "markdown",
   "metadata": {},
   "source": [
    "The geometry is built in a separate file which uses the Paramak code to build a DAGMC model. Here it is imported and then a bounding region is provided."
   ]
  },
  {
   "cell_type": "code",
   "execution_count": 6,
   "metadata": {},
   "outputs": [],
   "source": [
    "dag_univ = openmc.DAGMCUniverse(main_folder_path + \"arc2018.h5m\")\n",
    "\n",
    "# creates an edge of universe boundary surface\n",
    "vac_surf = openmc.Sphere(r=10000, surface_id=9999, boundary_type=\"vacuum\")\n",
    "\n",
    "# adds reflective surface for the sector model at 0 degrees\n",
    "reflective_1 = openmc.Plane(\n",
    "    a=math.sin(0),\n",
    "    b=-math.cos(0),\n",
    "    c=0.0,\n",
    "    d=0.0,\n",
    "    surface_id=9991,\n",
    "    boundary_type=\"reflective\",\n",
    ")\n",
    "\n",
    "# specifies the region as below the universe boundary and inside the reflective surfaces\n",
    "region = -vac_surf & -reflective_1 \n",
    "\n",
    "# creates a cell from the region and fills the cell with the dagmc geometry\n",
    "containing_cell = openmc.Cell(cell_id=9999, region=region, fill=dag_univ)\n",
    "\n",
    "geometry = openmc.Geometry(root=[containing_cell])"
   ]
  },
  {
   "cell_type": "markdown",
   "metadata": {},
   "source": [
    "## Settings ##"
   ]
  },
  {
   "cell_type": "markdown",
   "metadata": {},
   "source": [
    "A simple line source geometry is defined."
   ]
  },
  {
   "cell_type": "code",
   "execution_count": 7,
   "metadata": {},
   "outputs": [],
   "source": [
    "# creates a simple isotropic neutron source in the center with 14MeV neutrons\n",
    "source = openmc.Source()\n",
    "# the distribution of radius is just a single value at the plasma major radius\n",
    "radius = openmc.stats.Discrete([330.], [1])\n",
    "# the distribution of source z values is just a single value\n",
    "z_values = openmc.stats.Discrete([0], [1])\n",
    "# the distribution of source azimuthal angles values is a uniform distribution between 0 and 0.5 Pi\n",
    "# these angles must be the same as the reflective angles\n",
    "angle = openmc.stats.Uniform(a=0., b=math.radians(180))\n",
    "# this makes the ring source using the three distributions and a radius\n",
    "source.space = openmc.stats.CylindricalIndependent(r=radius, phi=angle, z=z_values, origin=(0.0, 0.0, 0.0))\n",
    "# sets the direction to isotropic\n",
    "source.angle = openmc.stats.Isotropic()\n",
    "# sets the energy distribution to a Muir distribution neutrons\n",
    "source.energy = openmc.stats.Muir(e0=14080000.0, m_rat=5.0, kt=20000.0)\n",
    "\n",
    "# specifies the simulation computational intensity\n",
    "settings = openmc.Settings()\n",
    "settings.batches = 10\n",
    "settings.particles = 100\n",
    "settings.inactive = 0\n",
    "settings.run_mode = \"fixed source\"\n",
    "settings.source = source"
   ]
  },
  {
   "cell_type": "markdown",
   "metadata": {},
   "source": [
    "## Tallies ##"
   ]
  },
  {
   "cell_type": "markdown",
   "metadata": {},
   "source": [
    "Definition of tallies used."
   ]
  },
  {
   "cell_type": "code",
   "execution_count": 8,
   "metadata": {},
   "outputs": [],
   "source": [
    "# Tritium Breeding Tally:\n",
    "trit_tally = openmc.Tally(name='tbr')\n",
    "#trit_tally.filters = [blanket_filter]\n",
    "trit_tally.scores = [\"(n,Xt)\"]\n",
    "\n",
    "# Tritium Breeding Tally:\n",
    "Be_tally = openmc.Tally(name='Be')\n",
    "#Be_tally.filters = [blanket_filter]\n",
    "Be_tally.scores = [\"(n,2n)\"]\n",
    "\n",
    "# Plutonium Breeding Tally:\n",
    "plut_tally = openmc.Tally(name='pbr')\n",
    "plut_tally.nuclides = ['U238']\n",
    "#plut_tally.filters = [blanket_filter]\n",
    "plut_tally.scores = [\"absorption\"]\n",
    "\n",
    "# # Uranium Breeding Tally:\n",
    "# u_tally = openmc.Tally(name='ubr')\n",
    "# u_tally.nuclides = ['Th232']\n",
    "# #plut_tally.filters = [blanket_filter]\n",
    "# u_tally.scores = [\"absorption\"]\n",
    "\n",
    "#Fission tally\n",
    "fis_tally = openmc.Tally(name='fis')\n",
    "#fis_tally.filters = [blanket_filter]\n",
    "fis_tally.scores = ['fission']\n",
    "\n",
    "tallies = openmc.Tallies([trit_tally, plut_tally, Be_tally, fis_tally])\n",
    "tallies.export_to_xml()"
   ]
  },
  {
   "cell_type": "markdown",
   "metadata": {},
   "source": [
    "## Depletion Run "
   ]
  },
  {
   "cell_type": "markdown",
   "metadata": {},
   "source": [
    "Setting up for the scan of depletion runs:"
   ]
  },
  {
   "cell_type": "code",
   "execution_count": 9,
   "metadata": {},
   "outputs": [],
   "source": [
    "percents_fertile = [0.25, 2, 5]\n",
    "\n",
    "# this tells openmc the decay paths between isotopes including proabilities of different routes and half lives\n",
    "chain_filename = main_folder_path + 'chain_endfb71_pwr.xml'\n",
    "chain = openmc.deplete.Chain.from_xml(chain_filename)\n",
    "\n",
    "# Set depletion calculation parameters:\n",
    "number_of_steps = 2\n",
    "total_time = 1 * 365 * 24 #hours\n",
    "fusion_power = 525 # MW\n",
    "\n",
    "energy_per_fusion = 2.8182e-18 # MJ (comes from converting 17.59 MeV to MJ)\n",
    "\n",
    "time_steps = [total_time*60*60 / number_of_steps] * number_of_steps\n",
    "source_rates = [fusion_power / energy_per_fusion] * number_of_steps\n",
    "\n",
    "tbrs, tbrs_std = np.empty(len(percents_fertile)), np.empty(len(percents_fertile))\n",
    "\n",
    "times_to_sq = np.empty(len(percents_fertile))"
   ]
  },
  {
   "cell_type": "markdown",
   "metadata": {},
   "source": [
    "Helper functions for extracting data during the depletion scan."
   ]
  },
  {
   "cell_type": "code",
   "execution_count": 10,
   "metadata": {},
   "outputs": [
    {
     "name": "stdout",
     "output_type": "stream",
     "text": [
      "[       0. 15768000. 31536000.]\n"
     ]
    }
   ],
   "source": [
    "# Only works for simulations with uniform timesteps\n",
    "def compute_times():\n",
    "    times = np.empty(number_of_steps + 1)\n",
    "    for i in range(0, number_of_steps + 1):\n",
    "        times[i] = i * time_steps[0] # seconds\n",
    "\n",
    "    return times\n",
    "\n",
    "def extract_tbr(return_arrays=False):\n",
    "    num_time_steps = len(time_steps) + 1\n",
    "\n",
    "    tbr_vals, tbr_std = np.empty(num_time_steps), np.empty(num_time_steps)\n",
    "    for i in range(0, num_time_steps):\n",
    "        sp = openmc.StatePoint(f'openmc_simulation_n{i}.h5')\n",
    "        \n",
    "        #Extract TBR values and std dev at each step in the simulation\n",
    "        tbr_tally = sp.get_tally(name='tbr')\n",
    "        tbr_vals[i] = tbr_tally.mean\n",
    "        tbr_std[i] = tbr_tally.std_dev\n",
    "\n",
    "    if return_arrays:\n",
    "        return tbr_vals, tbr_std\n",
    "    else:\n",
    "        return np.mean(tbr_vals), np.mean(tbr_std)\n",
    "\n",
    "#Converts number of atoms to kg of that isotope\n",
    "def convert_to_kg(num_atoms, isotope):\n",
    "    moles = num_atoms / Avogadro #divide by avogadro number to get in moles\n",
    "    mass = (moles * data.atomic_mass(isotope))*0.001 #in kg (atmoic mass is molar mass in units of g/mol)\n",
    "    return mass\n",
    "\n",
    "def get_atoms(isotope, results):\n",
    "    atoms = 0\n",
    "    for mat in range(0, len(blanket_material_ids)):\n",
    "        _, result = results.get_atoms(mat, isotope)\n",
    "        atoms += result\n",
    "    \n",
    "    return atoms\n",
    "\n",
    "#Retrieve the mass of a particular isotope in the blanket\n",
    "def get_mass(isotope, results):\n",
    "    atoms = get_atoms(isotope, results)\n",
    "    mass = convert_to_kg(atoms, isotope)\n",
    "    return mass\n",
    "\n",
    "def extract_time_to_sq(times, results):\n",
    "    pu_masses = get_mass('Pu239', results)\n",
    "    fit = Polynomial.fit(times, pu_masses, 1)\n",
    "    fit_masses = fit(times)\n",
    "\n",
    "    sig_quantity = 8 # kg\n",
    "    time_to_sig_quantity = (fit - sig_quantity).roots()[0] \n",
    "    return time_to_sig_quantity\n",
    "\n",
    "print(compute_times())"
   ]
  },
  {
   "cell_type": "markdown",
   "metadata": {},
   "source": [
    "Performing the scan:"
   ]
  },
  {
   "cell_type": "code",
   "execution_count": 11,
   "metadata": {},
   "outputs": [
    {
     "name": "stdout",
     "output_type": "stream",
     "text": [
      "[ 9 14 19 24]\n",
      "###### BEGIN DEPLETION CALCULATION FOR 0.25 PERCENT FERTILE BLANKET ######\n",
      "                                %%%%%%%%%%%%%%%\n",
      "                           %%%%%%%%%%%%%%%%%%%%%%%%\n",
      "                        %%%%%%%%%%%%%%%%%%%%%%%%%%%%%%\n",
      "                      %%%%%%%%%%%%%%%%%%%%%%%%%%%%%%%%%%\n",
      "                    %%%%%%%%%%%%%%%%%%%%%%%%%%%%%%%%%%%%%%\n",
      "                   %%%%%%%%%%%%%%%%%%%%%%%%%%%%%%%%%%%%%%%%\n",
      "                                    %%%%%%%%%%%%%%%%%%%%%%%%\n",
      "                                     %%%%%%%%%%%%%%%%%%%%%%%%\n",
      "                 ###############      %%%%%%%%%%%%%%%%%%%%%%%%\n",
      "                ##################     %%%%%%%%%%%%%%%%%%%%%%%\n",
      "                ###################     %%%%%%%%%%%%%%%%%%%%%%%\n",
      "                ####################     %%%%%%%%%%%%%%%%%%%%%%\n",
      "                #####################     %%%%%%%%%%%%%%%%%%%%%\n",
      "                ######################     %%%%%%%%%%%%%%%%%%%%\n",
      "                #######################     %%%%%%%%%%%%%%%%%%\n",
      "                 #######################     %%%%%%%%%%%%%%%%%\n",
      "                 ######################     %%%%%%%%%%%%%%%%%\n",
      "                  ####################     %%%%%%%%%%%%%%%%%\n",
      "                    #################     %%%%%%%%%%%%%%%%%\n",
      "                     ###############     %%%%%%%%%%%%%%%%\n",
      "                       ############     %%%%%%%%%%%%%%%\n",
      "                          ########     %%%%%%%%%%%%%%\n",
      "                                      %%%%%%%%%%%\n",
      "\n",
      "                 | The OpenMC Monte Carlo Code\n",
      "       Copyright | 2011-2022 MIT, UChicago Argonne LLC, and contributors\n",
      "         License | https://docs.openmc.org/en/latest/license.html\n",
      "         Version | 0.13.0\n",
      "        Git SHA1 | d9478c1304a37590453eabe3a99e97abb7f92013\n",
      "       Date/Time | 2022-07-22 11:57:03\n",
      "   MPI Processes | 1\n",
      "  OpenMP Threads | 8\n",
      "\n",
      " Reading settings XML file...\n",
      " Reading cross sections XML file...\n",
      " Reading materials XML file...\n",
      " Reading geometry XML file...\n",
      "Set overlap thickness = 0\n",
      "Set numerical precision = 0.001\n",
      "Loading file /home/jlball/arc-proliferation/arc2018/arc2018.h5m\n",
      "Initializing the GeomQueryTool...\n",
      "Using faceting tolerance: 0\n",
      "Building acceleration data structures...\n",
      "Implicit Complement assumed to be Vacuum\n",
      " Reading H1 from /home/jlball/xs_data/endfb80_hdf5/H1.h5\n",
      " Reading H2 from /home/jlball/xs_data/endfb80_hdf5/H2.h5\n",
      " Reading Li6 from /home/jlball/xs_data/endfb80_hdf5/Li6.h5\n",
      " Reading Li7 from /home/jlball/xs_data/endfb80_hdf5/Li7.h5\n",
      " Reading Be9 from /home/jlball/xs_data/endfb80_hdf5/Be9.h5\n",
      " Reading F19 from /home/jlball/xs_data/endfb80_hdf5/F19.h5\n",
      " Reading U234 from /home/jlball/xs_data/endfb80_hdf5/U234.h5\n",
      " Reading U235 from /home/jlball/xs_data/endfb80_hdf5/U235.h5\n",
      " Reading U238 from /home/jlball/xs_data/endfb80_hdf5/U238.h5\n",
      " Reading B10 from /home/jlball/xs_data/endfb80_hdf5/B10.h5\n",
      " Reading B11 from /home/jlball/xs_data/endfb80_hdf5/B11.h5\n",
      " Reading C12 from /home/jlball/xs_data/endfb80_hdf5/C12.h5\n",
      " Reading C13 from /home/jlball/xs_data/endfb80_hdf5/C13.h5\n",
      " Reading Al27 from /home/jlball/xs_data/endfb80_hdf5/Al27.h5\n",
      " Reading Si28 from /home/jlball/xs_data/endfb80_hdf5/Si28.h5\n",
      " Reading Si29 from /home/jlball/xs_data/endfb80_hdf5/Si29.h5\n",
      " Reading Si30 from /home/jlball/xs_data/endfb80_hdf5/Si30.h5\n",
      " Reading P31 from /home/jlball/xs_data/endfb80_hdf5/P31.h5\n",
      " Reading S32 from /home/jlball/xs_data/endfb80_hdf5/S32.h5\n",
      " Reading S33 from /home/jlball/xs_data/endfb80_hdf5/S33.h5\n",
      " Reading S34 from /home/jlball/xs_data/endfb80_hdf5/S34.h5\n",
      " Reading S36 from /home/jlball/xs_data/endfb80_hdf5/S36.h5\n",
      " Reading Ti46 from /home/jlball/xs_data/endfb80_hdf5/Ti46.h5\n",
      " Reading Ti47 from /home/jlball/xs_data/endfb80_hdf5/Ti47.h5\n",
      " Reading Ti48 from /home/jlball/xs_data/endfb80_hdf5/Ti48.h5\n",
      " Reading Ti49 from /home/jlball/xs_data/endfb80_hdf5/Ti49.h5\n",
      " Reading Ti50 from /home/jlball/xs_data/endfb80_hdf5/Ti50.h5\n",
      " Reading Cr50 from /home/jlball/xs_data/endfb80_hdf5/Cr50.h5\n",
      " Reading Cr52 from /home/jlball/xs_data/endfb80_hdf5/Cr52.h5\n",
      " Reading Cr53 from /home/jlball/xs_data/endfb80_hdf5/Cr53.h5\n",
      " Reading Cr54 from /home/jlball/xs_data/endfb80_hdf5/Cr54.h5\n",
      " Reading Mn55 from /home/jlball/xs_data/endfb80_hdf5/Mn55.h5\n",
      " Reading Fe54 from /home/jlball/xs_data/endfb80_hdf5/Fe54.h5\n",
      " Reading Fe56 from /home/jlball/xs_data/endfb80_hdf5/Fe56.h5\n",
      " Reading Fe57 from /home/jlball/xs_data/endfb80_hdf5/Fe57.h5\n",
      " Reading Fe58 from /home/jlball/xs_data/endfb80_hdf5/Fe58.h5\n",
      " Reading Co59 from /home/jlball/xs_data/endfb80_hdf5/Co59.h5\n",
      " Reading Ni58 from /home/jlball/xs_data/endfb80_hdf5/Ni58.h5\n",
      " Reading Ni60 from /home/jlball/xs_data/endfb80_hdf5/Ni60.h5\n",
      " Reading Ni61 from /home/jlball/xs_data/endfb80_hdf5/Ni61.h5\n",
      " Reading Ni62 from /home/jlball/xs_data/endfb80_hdf5/Ni62.h5\n",
      " Reading Ni64 from /home/jlball/xs_data/endfb80_hdf5/Ni64.h5\n",
      " Reading Cu63 from /home/jlball/xs_data/endfb80_hdf5/Cu63.h5\n",
      " Reading Cu65 from /home/jlball/xs_data/endfb80_hdf5/Cu65.h5\n",
      " Reading Nb93 from /home/jlball/xs_data/endfb80_hdf5/Nb93.h5\n",
      " Reading Mo92 from /home/jlball/xs_data/endfb80_hdf5/Mo92.h5\n",
      " Reading Mo94 from /home/jlball/xs_data/endfb80_hdf5/Mo94.h5\n",
      " Reading Mo95 from /home/jlball/xs_data/endfb80_hdf5/Mo95.h5\n",
      " Reading Mo96 from /home/jlball/xs_data/endfb80_hdf5/Mo96.h5\n",
      " Reading Mo97 from /home/jlball/xs_data/endfb80_hdf5/Mo97.h5\n",
      " Reading Mo98 from /home/jlball/xs_data/endfb80_hdf5/Mo98.h5\n",
      " Reading Mo100 from /home/jlball/xs_data/endfb80_hdf5/Mo100.h5\n",
      " Reading W180 from /home/jlball/xs_data/endfb80_hdf5/W180.h5\n",
      " Reading W182 from /home/jlball/xs_data/endfb80_hdf5/W182.h5\n",
      " Reading W183 from /home/jlball/xs_data/endfb80_hdf5/W183.h5\n",
      " Reading W184 from /home/jlball/xs_data/endfb80_hdf5/W184.h5\n",
      " Reading W186 from /home/jlball/xs_data/endfb80_hdf5/W186.h5\n"
     ]
    },
    {
     "ename": "",
     "evalue": "",
     "output_type": "error",
     "traceback": [
      "\u001b[1;31mCanceled future for execute_request message before replies were done"
     ]
    },
    {
     "ename": "",
     "evalue": "",
     "output_type": "error",
     "traceback": [
      "\u001b[1;31mThe Kernel crashed while executing code in the the current cell or a previous cell. Please review the code in the cell(s) to identify a possible cause of the failure. Click <a href='https://aka.ms/vscodeJupyterKernelCrash'>here</a> for more info. View Jupyter <a href='command:jupyter.viewOutput'>log</a> for further details."
     ]
    }
   ],
   "source": [
    "for i, percent_fertile in enumerate(percents_fertile):\n",
    "    # Create materials object with desired pertile percent:\n",
    "    materials, blanket_material_ids = generate_materials(percent_fertile=percent_fertile)\n",
    "\n",
    "    #Create OpenMC model object using this new materials object:\n",
    "    model = openmc.Model(\n",
    "        materials=materials, geometry=geometry, settings=settings, tallies=tallies\n",
    "    )\n",
    "\n",
    "    # Create transport operator using the above OpenMC model\n",
    "    operator = openmc.deplete.Operator(model, chain_filename, normalization_mode='source-rate')\n",
    "\n",
    "    # Create integrator which will perform the calculation using a particular algorhithm\n",
    "    integrator = openmc.deplete.PredictorIntegrator(\n",
    "        operator=operator, timesteps=time_steps, source_rates=source_rates, \n",
    "    )\n",
    "\n",
    "    print(\"###### BEGIN DEPLETION CALCULATION FOR\", percent_fertile, \"PERCENT FERTILE BLANKET ######\")\n",
    "    integrator.integrate()\n",
    "\n",
    "    print(\"###### EXTRACT RESULTS ######\")\n",
    "    tbr, tbr_std = extract_tbr()\n",
    "    tbrs[i] = tbr\n",
    "    tbrs_std[i] = tbr_std\n",
    "\n",
    "    #Extract time to significant quantity:\n",
    "    results = openmc.deplete.ResultsList.from_hdf5(\"depletion_results.h5\")\n",
    "    times = compute_times()\n",
    "\n",
    "    times_to_sq[i] = extract_time_to_sq(times, results)\n",
    "\n",
    "    "
   ]
  },
  {
   "cell_type": "code",
   "execution_count": null,
   "metadata": {},
   "outputs": [
    {
     "data": {
      "image/png": "[encoded data removed]",
      "text/plain": [
       "<Figure size 576x432 with 1 Axes>"
      ]
     },
     "metadata": {
      "needs_background": "light"
     },
     "output_type": "display_data"
    }
   ],
   "source": [
    "fig, ax = plt.subplots()\n",
    "ax.errorbar(percents_fertile, tbrs, yerr=tbrs_std, fmt='.', ms=10, capsize=5)\n",
    "\n",
    "ax.set(title=\"TBR vs. Percent Fertile Blanket Dopant in ARC-like Reactor\", xlabel=\"percent fertile dopant\", ylabel='TBR')\n",
    "ax.grid()\n",
    "\n",
    "plt.gcf().set_size_inches(8, 6)\n",
    "plt.show()"
   ]
  },
  {
   "cell_type": "code",
   "execution_count": null,
   "metadata": {},
   "outputs": [
    {
     "name": "stdout",
     "output_type": "stream",
     "text": [
      "[4.66396567e-310 0.00000000e+000 0.00000000e+000]\n"
     ]
    },
    {
     "data": {
      "image/png": "[encoded data removed]",
      "text/plain": [
       "<Figure size 576x432 with 1 Axes>"
      ]
     },
     "metadata": {
      "needs_background": "light"
     },
     "output_type": "display_data"
    }
   ],
   "source": [
    "fig, ax = plt.subplots()\n",
    "\n",
    "ax.scatter(percents_fertile, times_to_sq/(60*60))\n",
    "\n",
    "print(times_to_sq)\n",
    "\n",
    "ax.set(title=\"Time to 1 SQ of Pu239 vs. Fertile Percent\", xlabel=\"percent fertile\", ylabel='time (years)')\n",
    "ax.grid()\n",
    "\n",
    "plt.gcf().set_size_inches(8, 6)\n",
    "plt.show()"
   ]
  }
 ],
 "metadata": {
  "kernelspec": {
   "display_name": "Python 3.10.5 ('openmc_env': conda)",
   "language": "python",
   "name": "python3"
  },
  "language_info": {
   "codemirror_mode": {
    "name": "ipython",
    "version": 3
   },
   "file_extension": ".py",
   "mimetype": "text/x-python",
   "name": "python",
   "nbconvert_exporter": "python",
   "pygments_lexer": "ipython3",
   "version": "3.10.5"
  },
  "orig_nbformat": 4,
  "vscode": {
   "interpreter": {
    "hash": "45e764e0f938d6b30040af0e2374672beafce835508174d490be8d126b170f5b"
   }
  }
 },
 "nbformat": 4,
 "nbformat_minor": 2
}
