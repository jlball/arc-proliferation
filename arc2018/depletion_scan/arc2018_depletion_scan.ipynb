{
 "cells": [
  {
   "cell_type": "markdown",
   "metadata": {},
   "source": [
    "# ARC 2018 Depletion Model"
   ]
  },
  {
   "cell_type": "code",
   "execution_count": null,
   "metadata": {},
   "outputs": [],
   "source": [
    "import openmc\n",
    "import openmc.deplete\n",
    "import openmc.data as data\n",
    "import neutronics_material_maker as nmm\n",
    "import math\n",
    "import json\n",
    "import numpy as np\n",
    "import matplotlib.pyplot as plt\n",
    "from scipy.constants import Avogadro\n",
    "from numpy.polynomial.polynomial import Polynomial"
   ]
  },
  {
   "cell_type": "code",
   "execution_count": null,
   "metadata": {},
   "outputs": [],
   "source": [
    "main_folder_path = \"/home/jlball/arc-proliferation/arc2018/\"\n",
    "\n",
    "dopant_species = \"Th\""
   ]
  },
  {
   "cell_type": "markdown",
   "metadata": {},
   "source": [
    "## Materials ##"
   ]
  },
  {
   "cell_type": "markdown",
   "metadata": {},
   "source": [
    "All material management is done using `neutronics_material_maker`. The name of each material must correspond to the name of the region of the DAGMC model to which it should be assigned."
   ]
  },
  {
   "cell_type": "code",
   "execution_count": null,
   "metadata": {},
   "outputs": [],
   "source": [
    "# Import and read JSON file containing volume information computed by paramak\n",
    "file = open(main_folder_path + 'arc2018_volumes.json',)\n",
    "volumes = json.load(file)\n",
    "file.close()"
   ]
  },
  {
   "cell_type": "code",
   "execution_count": null,
   "metadata": {},
   "outputs": [],
   "source": [
    "nmm.AddMaterialFromFile(main_folder_path + \"mat_lib.json\")\n",
    "blanket_material_ids = np.empty(4)\n",
    "\n",
    "def generate_materials(percent_fertile=0, Li6_enrichment=7.8, dopant_species='U'):\n",
    "    plasma = nmm.Material.from_library(\"plasma\").openmc_material\n",
    "\n",
    "    flibe = nmm.Material.from_library(\"flibe\", enrichment=Li6_enrichment)\n",
    "\n",
    "    ib_mult = nmm.Material.from_library(\"beryllium\").openmc_material\n",
    "    ib_mult.name = 'inboard_multiplier'\n",
    "\n",
    "    ob_mult = nmm.Material.from_library(\"beryllium\").openmc_material\n",
    "    ob_mult.name = 'outboard_multiplier'\n",
    "\n",
    "    ob_outer_vv = nmm.Material.from_library(\"Inconel-718\").openmc_material\n",
    "    ob_outer_vv.name = 'outboard_outer_vv'\n",
    "\n",
    "    ib_outer_vv = nmm.Material.from_library(\"Inconel-718\").openmc_material\n",
    "    ib_outer_vv.name = 'inboard_outer_vv'\n",
    "\n",
    "    vv = nmm.Material.from_library(\"tungsten\").openmc_material\n",
    "    vv.name = \"vv\"\n",
    "\n",
    "    if dopant_species == \"U\":\n",
    "        dopant = nmm.Material.from_library(\"uf4\")\n",
    "    elif dopant_species == \"Th\":\n",
    "        dopant = nmm.Material.from_library(\"thf4\")\n",
    "    else:\n",
    "        print(\"Error: Invalid dopant type specified\")\n",
    "        return\n",
    "\n",
    "    #Creating materials for all four FLiBe regions by mixing UF4 and FLiBe materials by volume\n",
    "    ib_tank = nmm.Material.from_mixture(name='inboard_tank', materials=[flibe, dopant], fracs=[1 - percent_fertile/100, percent_fertile/100], percent_type='vo').openmc_material\n",
    "    ob_tank = nmm.Material.from_mixture(name='outboard_tank', materials=[flibe, dopant], fracs=[1 - percent_fertile/100, percent_fertile/100], percent_type='vo').openmc_material\n",
    "\n",
    "    ib_cc = nmm.Material.from_mixture(name='inboard_cc', materials=[flibe, dopant], fracs=[1 - percent_fertile/100, percent_fertile/100], percent_type='vo').openmc_material\n",
    "    ob_cc = nmm.Material.from_mixture(name='outboard_cc', materials=[flibe, dopant], fracs=[1 - percent_fertile/100, percent_fertile/100], percent_type='vo').openmc_material\n",
    "\n",
    "    ib_tank.volume = volumes['inboard_tank']\n",
    "    ob_tank.volume = volumes['outboard_tank']\n",
    "    ib_cc.volume = volumes['inboard_cc']\n",
    "    ob_cc.volume = volumes['outboard_cc']\n",
    "\n",
    "    materials = openmc.Materials(\n",
    "        [\n",
    "            plasma,\n",
    "            ib_tank,\n",
    "            ob_tank,\n",
    "            ib_cc,\n",
    "            ob_cc,\n",
    "            ib_mult,\n",
    "            ob_mult,\n",
    "            ib_outer_vv,\n",
    "            ob_outer_vv,\n",
    "            vv\n",
    "        ]\n",
    "    )\n",
    "\n",
    "    blanket_material_ids = np.array([ib_tank.id, ob_tank.id, ib_cc.id, ob_cc.id])\n",
    "    print(blanket_material_ids)\n",
    "\n",
    "    return materials, blanket_material_ids\n"
   ]
  },
  {
   "cell_type": "markdown",
   "metadata": {},
   "source": [
    "Specify path to cross section file of desired library."
   ]
  },
  {
   "cell_type": "code",
   "execution_count": null,
   "metadata": {},
   "outputs": [],
   "source": [
    "#Provide path to cross section data\n",
    "openmc.Materials.cross_sections = \"/home/jlball/xs_data/endfb80_hdf5/cross_sections.xml\""
   ]
  },
  {
   "cell_type": "markdown",
   "metadata": {},
   "source": [
    "## Geometry ##"
   ]
  },
  {
   "cell_type": "markdown",
   "metadata": {},
   "source": [
    "The geometry is built in a separate file which uses the Paramak code to build a DAGMC model. Here it is imported and then a bounding region is provided."
   ]
  },
  {
   "cell_type": "code",
   "execution_count": null,
   "metadata": {},
   "outputs": [],
   "source": [
    "dag_univ = openmc.DAGMCUniverse(main_folder_path + \"arc2018.h5m\")\n",
    "\n",
    "# creates an edge of universe boundary surface\n",
    "vac_surf = openmc.Sphere(r=10000, surface_id=9999, boundary_type=\"vacuum\")\n",
    "\n",
    "# adds reflective surface for the sector model at 0 degrees\n",
    "reflective_1 = openmc.Plane(\n",
    "    a=math.sin(0),\n",
    "    b=-math.cos(0),\n",
    "    c=0.0,\n",
    "    d=0.0,\n",
    "    surface_id=9991,\n",
    "    boundary_type=\"reflective\",\n",
    ")\n",
    "\n",
    "# specifies the region as below the universe boundary and inside the reflective surfaces\n",
    "region = -vac_surf & -reflective_1 \n",
    "\n",
    "# creates a cell from the region and fills the cell with the dagmc geometry\n",
    "containing_cell = openmc.Cell(cell_id=9999, region=region, fill=dag_univ)\n",
    "\n",
    "geometry = openmc.Geometry(root=[containing_cell])"
   ]
  },
  {
   "cell_type": "markdown",
   "metadata": {},
   "source": [
    "## Settings ##"
   ]
  },
  {
   "cell_type": "markdown",
   "metadata": {},
   "source": [
    "A simple line source geometry is defined."
   ]
  },
  {
   "cell_type": "code",
   "execution_count": null,
   "metadata": {},
   "outputs": [],
   "source": [
    "# creates a simple isotropic neutron source in the center with 14MeV neutrons\n",
    "source = openmc.Source()\n",
    "# the distribution of radius is just a single value at the plasma major radius\n",
    "radius = openmc.stats.Discrete([330.], [1])\n",
    "# the distribution of source z values is just a single value\n",
    "z_values = openmc.stats.Discrete([0], [1])\n",
    "# the distribution of source azimuthal angles values is a uniform distribution between 0 and 0.5 Pi\n",
    "# these angles must be the same as the reflective angles\n",
    "angle = openmc.stats.Uniform(a=0., b=math.radians(180))\n",
    "# this makes the ring source using the three distributions and a radius\n",
    "source.space = openmc.stats.CylindricalIndependent(r=radius, phi=angle, z=z_values, origin=(0.0, 0.0, 0.0))\n",
    "# sets the direction to isotropic\n",
    "source.angle = openmc.stats.Isotropic()\n",
    "# sets the energy distribution to a Muir distribution neutrons\n",
    "source.energy = openmc.stats.Muir(e0=14080000.0, m_rat=5.0, kt=20000.0)\n",
    "\n",
    "# specifies the simulation computational intensity\n",
    "settings = openmc.Settings()\n",
    "settings.batches = 10\n",
    "settings.particles = 1000\n",
    "settings.inactive = 0\n",
    "settings.run_mode = \"fixed source\"\n",
    "settings.source = source"
   ]
  },
  {
   "cell_type": "markdown",
   "metadata": {},
   "source": [
    "## Tallies ##"
   ]
  },
  {
   "cell_type": "markdown",
   "metadata": {},
   "source": [
    "Definition of tallies used."
   ]
  },
  {
   "cell_type": "code",
   "execution_count": null,
   "metadata": {},
   "outputs": [],
   "source": [
    "# Tritium Breeding Tally:\n",
    "trit_tally = openmc.Tally(name='tbr')\n",
    "#trit_tally.filters = [blanket_filter]\n",
    "trit_tally.scores = [\"(n,Xt)\"]\n",
    "\n",
    "# Tritium Breeding Tally:\n",
    "Be_tally = openmc.Tally(name='Be')\n",
    "#Be_tally.filters = [blanket_filter]\n",
    "Be_tally.scores = [\"(n,2n)\"]\n",
    "\n",
    "if dopant_species == \"U\":\n",
    "    # Plutonium Breeding Tally:\n",
    "    breed_tally = openmc.Tally(name='pbr')\n",
    "    breed_tally.nuclides = ['U238']\n",
    "    #plut_tally.filters = [blanket_filter]\n",
    "    breed_tally.scores = [\"absorption\"]\n",
    "\n",
    "elif dopant_species == \"Th\":\n",
    "    # Uranium Breeding Tally:\n",
    "    breed_tally = openmc.Tally(name='ubr')\n",
    "    breed_tally.nuclides = ['Th232']\n",
    "    #plut_tally.filters = [blanket_filter]\n",
    "    breed_tally.scores = [\"absorption\"]\n",
    "\n",
    "#Fission tally\n",
    "fis_tally = openmc.Tally(name='fis')\n",
    "#fis_tally.filters = [blanket_filter]\n",
    "fis_tally.scores = ['fission']\n",
    "\n",
    "tallies = openmc.Tallies([trit_tally, breed_tally, Be_tally, fis_tally])\n",
    "tallies.export_to_xml()"
   ]
  },
  {
   "cell_type": "markdown",
   "metadata": {},
   "source": [
    "## Depletion Run "
   ]
  },
  {
   "cell_type": "markdown",
   "metadata": {},
   "source": [
    "Setting up for the scan of depletion runs:"
   ]
  },
  {
   "cell_type": "code",
   "execution_count": null,
   "metadata": {},
   "outputs": [],
   "source": [
    "percents_fertile = [0.01, 0.25, 1, 2.5, 5]\n",
    "#percents_fertile = [0.01, 0.1, 0.25, 0.5, 0.75, 1, 2, 3, 4, 5]\n",
    "\n",
    "# this tells openmc the decay paths between isotopes including proabilities of different routes and half lives\n",
    "chain_filename = main_folder_path + 'simplified_chain_fast_spectrum.xml'\n",
    "chain = openmc.deplete.Chain.from_xml(chain_filename)\n",
    "\n",
    "# Set depletion calculation parameters:\n",
    "number_of_steps = 5\n",
    "total_time = 1 * 365 * 24 #hours\n",
    "fusion_power = 525 # MW\n",
    "\n",
    "energy_per_fusion = 2.8182e-18 # MJ (comes from converting 17.59 MeV to MJ)\n",
    "\n",
    "time_steps = [total_time*60*60 / number_of_steps] * number_of_steps\n",
    "source_rates = [fusion_power / energy_per_fusion] * number_of_steps\n",
    "\n",
    "tbrs, tbrs_std = np.empty(len(percents_fertile)), np.empty(len(percents_fertile))\n",
    "\n",
    "times_to_sq = np.empty(len(percents_fertile))\n",
    "pu_purities = np.empty(len(percents_fertile))"
   ]
  },
  {
   "cell_type": "markdown",
   "metadata": {},
   "source": [
    "Helper functions for extracting data during the depletion scan."
   ]
  },
  {
   "cell_type": "code",
   "execution_count": null,
   "metadata": {},
   "outputs": [],
   "source": [
    "# Only works for simulations with uniform timesteps\n",
    "def compute_times():\n",
    "    times = np.empty(number_of_steps + 1)\n",
    "    for i in range(0, number_of_steps + 1):\n",
    "        times[i] = i * time_steps[0] # seconds\n",
    "\n",
    "    return times\n",
    "\n",
    "def extract_tbr(return_arrays=False):\n",
    "    num_time_steps = len(time_steps) + 1\n",
    "\n",
    "    tbr_vals, tbr_std = np.empty(num_time_steps), np.empty(num_time_steps)\n",
    "    for i in range(0, num_time_steps):\n",
    "        sp = openmc.StatePoint(f'openmc_simulation_n{i}.h5')\n",
    "        \n",
    "        #Extract TBR values and std dev at each step in the simulation\n",
    "        tbr_tally = sp.get_tally(name='tbr')\n",
    "        tbr_vals[i] = tbr_tally.mean\n",
    "        tbr_std[i] = tbr_tally.std_dev\n",
    "\n",
    "    if return_arrays:\n",
    "        return tbr_vals, tbr_std\n",
    "    else:\n",
    "        return np.mean(tbr_vals), np.mean(tbr_std)\n",
    "\n",
    "#Converts number of atoms to kg of that isotope\n",
    "def convert_to_kg(num_atoms, isotope):\n",
    "    moles = num_atoms / Avogadro #divide by avogadro number to get in moles\n",
    "    mass = (moles * data.atomic_mass(isotope))*0.001 #in kg (atmoic mass is molar mass in units of g/mol)\n",
    "    return mass\n",
    "\n",
    "def get_atoms(isotope, results):\n",
    "    atoms = 0\n",
    "    for mat in range(0, len(blanket_material_ids)):\n",
    "        _, result = results.get_atoms(mat, isotope)\n",
    "        atoms += result\n",
    "    \n",
    "    return atoms\n",
    "\n",
    "#Retrieve the mass of a particular isotope in the blanket\n",
    "def get_mass(isotope, results):\n",
    "    atoms = get_atoms(isotope, results)\n",
    "    mass = convert_to_kg(atoms, isotope)\n",
    "    return mass\n",
    "\n",
    "def extract_time_to_sq(times, results, dopant_species):\n",
    "    if dopant_species == \"U\":\n",
    "        masses = get_mass('Pu239', results)\n",
    "    elif dopant_species == \"Th\":\n",
    "        masses = get_mass('U233', results)\n",
    "\n",
    "    fit = Polynomial.fit(times, masses, 1)\n",
    "    fit_masses = fit(times)\n",
    "\n",
    "    sig_quantity = 8 # kg, same for both U233 and Pu239\n",
    "    time_to_sig_quantity = (fit - sig_quantity).roots()[0] \n",
    "    return time_to_sig_quantity\n",
    "\n",
    "def extract_isotopic_purity(results):\n",
    "    pu_isotopes = ['Pu238', 'Pu239', 'Pu240', 'Pu241']\n",
    "    total_pu_atoms = 0\n",
    "    for iso in pu_isotopes:\n",
    "        atoms = get_atoms(iso, results)[-1]\n",
    "        total_pu_atoms += atoms\n",
    "\n",
    "    atoms_239 = get_atoms('Pu239', results)[-1] \n",
    "    return atoms_239/total_pu_atoms"
   ]
  },
  {
   "cell_type": "markdown",
   "metadata": {},
   "source": [
    "Performing the scan:"
   ]
  },
  {
   "cell_type": "code",
   "execution_count": null,
   "metadata": {},
   "outputs": [],
   "source": [
    "for i, percent_fertile in enumerate(percents_fertile):\n",
    "    # Create materials object with desired pertile percent:\n",
    "    materials, blanket_material_ids = generate_materials(percent_fertile=percent_fertile, Li6_enrichment=7.8, dopant_species=dopant_species)\n",
    "\n",
    "    #Create OpenMC model object using this new materials object:\n",
    "    model = openmc.Model(\n",
    "        materials=materials, geometry=geometry, settings=settings, tallies=tallies\n",
    "    )\n",
    "\n",
    "    # Create transport operator using the above OpenMC model\n",
    "    operator = openmc.deplete.Operator(model, chain_filename, normalization_mode='source-rate')\n",
    "\n",
    "    # Create integrator which will perform the calculation using a particular algorhithm\n",
    "    integrator = openmc.deplete.PredictorIntegrator(\n",
    "        operator=operator, timesteps=time_steps, source_rates=source_rates, \n",
    "    )\n",
    "\n",
    "    print(\"###### BEGIN DEPLETION CALCULATION FOR\", percent_fertile, \"PERCENT FERTILE BLANKET ######\")\n",
    "    integrator.integrate()\n",
    "\n",
    "    print(\"###### EXTRACT RESULTS ######\")\n",
    "    tbr, tbr_std = extract_tbr()\n",
    "    tbrs[i] = tbr\n",
    "    tbrs_std[i] = tbr_std\n",
    "\n",
    "    #Extract time to significant quantity:\n",
    "    results = openmc.deplete.ResultsList.from_hdf5(\"depletion_results.h5\")\n",
    "    times = compute_times()\n",
    "\n",
    "    times_to_sq[i] = extract_time_to_sq(times, results, dopant_species)\n",
    "    pu_purities[i] = extract_isotopic_purity(results)\n",
    "\n",
    "collected_data = np.array([percents_fertile, times_to_sq, tbrs, tbrs_std])\n",
    "np.save(dopant_species + \"_data\", collected_data)\n"
   ]
  },
  {
   "cell_type": "code",
   "execution_count": null,
   "metadata": {},
   "outputs": [],
   "source": [
    "plot_dpi = 200\n",
    "fig, ax = plt.subplots(dpi=plot_dpi)\n",
    "ax.errorbar(percents_fertile, tbrs, yerr=tbrs_std, fmt='.', ms=10, capsize=4)\n",
    "\n",
    "ax.set(title='TBR vs. Percent Fertile Blanket Dopant in ARC-like Reactor', xlabel=\"percent fertile dopant\", ylabel='TBR', ylim=[0, 1.3])\n",
    "ax.grid()\n",
    "\n",
    "plt.gcf().set_size_inches(8, 6)\n",
    "plt.show()"
   ]
  },
  {
   "cell_type": "code",
   "execution_count": null,
   "metadata": {},
   "outputs": [],
   "source": [
    "fig, ax = plt.subplots(dpi=plot_dpi)\n",
    "\n",
    "ax.scatter(percents_fertile, times_to_sq/(60*60))\n",
    "\n",
    "ax.set(title=\"Time to 1 SQ vs. Fertile Percent\", xlabel=\"percent fertile\", ylabel='time (hours)')\n",
    "ax.grid()\n",
    "ax.set_yscale('log')\n",
    "\n",
    "plt.gcf().set_size_inches(8, 6)\n",
    "plt.show()"
   ]
  },
  {
   "cell_type": "code",
   "execution_count": null,
   "metadata": {},
   "outputs": [],
   "source": [
    "fig, ax = plt.subplots(dpi=plot_dpi)\n",
    "\n",
    "ax.scatter(percents_fertile, pu_purities*100)\n",
    "\n",
    "ax.set(title=\"Isotopic Purity of Pu239 vs. Fertile Percent\", xlabel=\"percent fertile\", ylabel='Percent Pu239')\n",
    "ax.grid()\n",
    "\n",
    "plt.gcf().set_size_inches(8, 6)\n",
    "plt.show()"
   ]
  }
 ],
 "metadata": {
  "kernelspec": {
   "display_name": "Python 3.10.5 ('openmc_env': conda)",
   "language": "python",
   "name": "python3"
  },
  "language_info": {
   "codemirror_mode": {
    "name": "ipython",
    "version": 3
   },
   "file_extension": ".py",
   "mimetype": "text/x-python",
   "name": "python",
   "nbconvert_exporter": "python",
   "pygments_lexer": "ipython3",
   "version": "3.10.5"
  },
  "orig_nbformat": 4,
  "vscode": {
   "interpreter": {
    "hash": "45e764e0f938d6b30040af0e2374672beafce835508174d490be8d126b170f5b"
   }
  }
 },
 "nbformat": 4,
 "nbformat_minor": 2
}
